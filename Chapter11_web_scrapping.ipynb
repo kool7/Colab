{
  "nbformat": 4,
  "nbformat_minor": 0,
  "metadata": {
    "colab": {
      "name": "Chapter11_web_scrapping.ipynb",
      "provenance": [],
      "collapsed_sections": []
    },
    "kernelspec": {
      "name": "python3",
      "display_name": "Python 3"
    }
  },
  "cells": [
    {
      "cell_type": "markdown",
      "metadata": {
        "id": "mAn1fJ7KYZ-T",
        "colab_type": "text"
      },
      "source": [
        "# Web Scrapping\n",
        "\n",
        "Web scraping is the term for using a program to download and process content from the Web.\n",
        "\n",
        "* **webbrowser** - Comes with Python and opens a browser to a specific page.\n",
        "\n",
        "* **Requests** - Downloads files and web pages from the Internet.\n",
        "\n",
        "* **Beautiful Soup** - Parses HTML, the format that web pages are written in.\n",
        "\n",
        "* **Selenium** - Launches and controls a web browser. Selenium is able to fill in forms and simulate mouse clicks in this browser."
      ]
    },
    {
      "cell_type": "code",
      "metadata": {
        "id": "sAN5dAxSclfh",
        "colab_type": "code",
        "colab": {
          "base_uri": "https://localhost:8080/",
          "height": 34
        },
        "outputId": "d1e356de-a411-42b1-fa7a-05e9ea300610"
      },
      "source": [
        "import webbrowser\n",
        "webbrowser.open_new_tab('http://inventwithpython.com/')"
      ],
      "execution_count": 26,
      "outputs": [
        {
          "output_type": "execute_result",
          "data": {
            "text/plain": [
              "False"
            ]
          },
          "metadata": {
            "tags": []
          },
          "execution_count": 26
        }
      ]
    },
    {
      "cell_type": "markdown",
      "metadata": {
        "id": "ng2lquTd9xeA",
        "colab_type": "text"
      },
      "source": [
        "# Downloading Files from the Web with the requests Module\n",
        "\n",
        "The requests module lets you easily download files from the Web without having to worry about complicated issues such as network errors, connection problems, and data compression."
      ]
    },
    {
      "cell_type": "code",
      "metadata": {
        "id": "JKtuQHN44RYc",
        "colab_type": "code",
        "colab": {}
      },
      "source": [
        "import requests "
      ],
      "execution_count": 0,
      "outputs": []
    },
    {
      "cell_type": "code",
      "metadata": {
        "id": "XXl9ZExe-DS8",
        "colab_type": "code",
        "colab": {
          "base_uri": "https://localhost:8080/",
          "height": 34
        },
        "outputId": "063ea313-4eec-45d2-9089-1b786ab85305"
      },
      "source": [
        "res = requests.get('http://datacamp.com/')\n",
        "type(res)"
      ],
      "execution_count": 29,
      "outputs": [
        {
          "output_type": "execute_result",
          "data": {
            "text/plain": [
              "requests.models.Response"
            ]
          },
          "metadata": {
            "tags": []
          },
          "execution_count": 29
        }
      ]
    },
    {
      "cell_type": "markdown",
      "metadata": {
        "id": "X8EWv-RF-xK6",
        "colab_type": "text"
      },
      "source": [
        "The *requests.get()* function takes a string of a URL to download. By calling type() on requests.get()’s return value, you can see that it returns a Response object, which contains the response that the web server gave for your request."
      ]
    },
    {
      "cell_type": "code",
      "metadata": {
        "id": "w22CGucm-s-d",
        "colab_type": "code",
        "colab": {
          "base_uri": "https://localhost:8080/",
          "height": 34
        },
        "outputId": "8dce5bec-cc94-40cb-b6eb-1cc9d99b33b2"
      },
      "source": [
        "res.status_code == requests.codes.ok"
      ],
      "execution_count": 35,
      "outputs": [
        {
          "output_type": "execute_result",
          "data": {
            "text/plain": [
              "True"
            ]
          },
          "metadata": {
            "tags": []
          },
          "execution_count": 35
        }
      ]
    },
    {
      "cell_type": "code",
      "metadata": {
        "id": "ZixzBCV9_wj-",
        "colab_type": "code",
        "colab": {
          "base_uri": "https://localhost:8080/",
          "height": 34
        },
        "outputId": "eebe73f8-3e3b-4eb8-a7b3-bffee68a8615"
      },
      "source": [
        "len(res.text)"
      ],
      "execution_count": 36,
      "outputs": [
        {
          "output_type": "execute_result",
          "data": {
            "text/plain": [
              "219737"
            ]
          },
          "metadata": {
            "tags": []
          },
          "execution_count": 36
        }
      ]
    },
    {
      "cell_type": "code",
      "metadata": {
        "id": "kHclBp2X_NxJ",
        "colab_type": "code",
        "colab": {
          "base_uri": "https://localhost:8080/",
          "height": 54
        },
        "outputId": "59dbbec9-070c-4a65-d801-1e17176ca2fd"
      },
      "source": [
        "print(res.text[:250])"
      ],
      "execution_count": 34,
      "outputs": [
        {
          "output_type": "stream",
          "text": [
            "<!DOCTYPE html><html><head><meta charSet=\"utf-8\"/><meta http-equiv=\"x-ua-compatible\" content=\"ie=edge\"/><meta name=\"viewport\" content=\"width=device-width, initial-scale=1, shrink-to-fit=no\"/><style data-href=\"https://static.datacamp.com/styles.75f3c9\n"
          ],
          "name": "stdout"
        }
      ]
    },
    {
      "cell_type": "markdown",
      "metadata": {
        "id": "q_Psesh1_0kp",
        "colab_type": "text"
      },
      "source": [
        "You can tell that the request for this web page succeeded by checking the **status_code** attribute of the Response object. If it is equal to the value of **requests.codes.ok**, then everything went fine. If the request succeeded, the downloaded web page is stored as a string in the Response object’s text variable.\n",
        "\n",
        "**Checking for errors.**\n",
        "\n",
        "A simpler way to check for success is to call the **raise_for_status()** method on the Response object. This will raise an exception if there was an error downloading the file and will do nothing if the download succeeded."
      ]
    },
    {
      "cell_type": "code",
      "metadata": {
        "id": "w3LiZvnO_vVv",
        "colab_type": "code",
        "colab": {}
      },
      "source": [
        "res.raise_for_status()"
      ],
      "execution_count": 0,
      "outputs": []
    },
    {
      "cell_type": "code",
      "metadata": {
        "id": "fg_ECm-KAs4K",
        "colab_type": "code",
        "colab": {
          "base_uri": "https://localhost:8080/",
          "height": 54
        },
        "outputId": "4bdeb397-a332-4bd1-d273-8655712585e6"
      },
      "source": [
        "import requests\n",
        "res = requests.get('http://inventwithpython.com/page_that_does_not_exist')\n",
        "\n",
        "try:\n",
        "  res.raise_for_status()\n",
        "except Exception as exc:\n",
        "  print('There was a problem: %s' % (exc))\n"
      ],
      "execution_count": 1,
      "outputs": [
        {
          "output_type": "stream",
          "text": [
            "There was a problem: 404 Client Error: Not Found for url: http://inventwithpython.com/page_that_does_not_exist\n"
          ],
          "name": "stdout"
        }
      ]
    },
    {
      "cell_type": "markdown",
      "metadata": {
        "id": "AEAej0NfckOW",
        "colab_type": "text"
      },
      "source": [
        "**Saving Downloaded Files to the Hard Drive.**"
      ]
    },
    {
      "cell_type": "code",
      "metadata": {
        "id": "SBjemCFpBPec",
        "colab_type": "code",
        "colab": {}
      },
      "source": [
        ""
      ],
      "execution_count": 0,
      "outputs": []
    }
  ]
}
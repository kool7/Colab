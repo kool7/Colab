{
  "nbformat": 4,
  "nbformat_minor": 0,
  "metadata": {
    "colab": {
      "name": "Chapter6_String_Manipulation.ipynb",
      "provenance": [],
      "include_colab_link": true
    },
    "kernelspec": {
      "name": "python3",
      "display_name": "Python 3"
    }
  },
  "cells": [
    {
      "cell_type": "markdown",
      "metadata": {
        "id": "view-in-github",
        "colab_type": "text"
      },
      "source": [
        "<a href=\"https://colab.research.google.com/github/kool7/Colab/blob/master/Chapter6_String_Manipulation.ipynb\" target=\"_parent\"><img src=\"https://colab.research.google.com/assets/colab-badge.svg\" alt=\"Open In Colab\"/></a>"
      ]
    },
    {
      "cell_type": "code",
      "metadata": {
        "id": "Sur8V8npBTSB",
        "colab_type": "code",
        "colab": {
          "base_uri": "https://localhost:8080/",
          "height": 50
        },
        "outputId": "fe9d9cbd-f795-4bfe-e7d1-53a77cd28029"
      },
      "source": [
        "while True:\n",
        "    print('Enter your age:')\n",
        "    age = input()\n",
        "    if age.isdecimal():\n",
        "        break\n",
        "    print('Please enter a number for your age.')\n"
      ],
      "execution_count": 2,
      "outputs": [
        {
          "output_type": "stream",
          "text": [
            "Enter your age:\n",
            "33\n"
          ],
          "name": "stdout"
        }
      ]
    },
    {
      "cell_type": "code",
      "metadata": {
        "id": "YAuZfTioEDT1",
        "colab_type": "code",
        "colab": {
          "base_uri": "https://localhost:8080/",
          "height": 67
        },
        "outputId": "47363c36-7efe-4921-fcf5-bf5f18385dee"
      },
      "source": [
        "while True:\n",
        "    print('Enter new password (letters and numbers only):')\n",
        "    password = input()\n",
        "    if password.isalnum():\n",
        "        break\n",
        "    print('Passwords can only contain letters and numbers.')\n",
        "    \n",
        "print('Your password is set successfully.')"
      ],
      "execution_count": 7,
      "outputs": [
        {
          "output_type": "stream",
          "text": [
            "Enter new password (letters and numbers only):\n",
            "iamtrillionaire7\n",
            "Your password is set successfully.\n"
          ],
          "name": "stdout"
        }
      ]
    }
  ]
}
{
  "nbformat": 4,
  "nbformat_minor": 0,
  "metadata": {
    "colab": {
      "name": "Chapter7_Debugging.ipynb",
      "provenance": [],
      "include_colab_link": true
    },
    "kernelspec": {
      "name": "python3",
      "display_name": "Python 3"
    }
  },
  "cells": [
    {
      "cell_type": "markdown",
      "metadata": {
        "id": "view-in-github",
        "colab_type": "text"
      },
      "source": [
        "<a href=\"https://colab.research.google.com/github/kool7/Colab/blob/master/Chapter7_Debugging.ipynb\" target=\"_parent\"><img src=\"https://colab.research.google.com/assets/colab-badge.svg\" alt=\"Open In Colab\"/></a>"
      ]
    },
    {
      "cell_type": "markdown",
      "metadata": {
        "id": "jCtnzjuQA4_1",
        "colab_type": "text"
      },
      "source": [
        " # Raising Exceptions"
      ]
    },
    {
      "cell_type": "code",
      "metadata": {
        "id": "KH9Xjp5QAg26",
        "colab_type": "code",
        "colab": {
          "base_uri": "https://localhost:8080/",
          "height": 162
        },
        "outputId": "42ce81a3-9302-4ad1-f402-e5433917b137"
      },
      "source": [
        "led raise Exception('This is an error message.')"
      ],
      "execution_count": 1,
      "outputs": [
        {
          "output_type": "error",
          "ename": "Exception",
          "evalue": "ignored",
          "traceback": [
            "\u001b[0;31m---------------------------------------------------------------------------\u001b[0m",
            "\u001b[0;31mException\u001b[0m                                 Traceback (most recent call last)",
            "\u001b[0;32m<ipython-input-1-0f5972cc4120>\u001b[0m in \u001b[0;36m<module>\u001b[0;34m()\u001b[0m\n\u001b[0;32m----> 1\u001b[0;31m \u001b[0;32mraise\u001b[0m \u001b[0mException\u001b[0m\u001b[0;34m(\u001b[0m\u001b[0;34m'This is an error message.'\u001b[0m\u001b[0;34m)\u001b[0m\u001b[0;34m\u001b[0m\u001b[0;34m\u001b[0m\u001b[0m\n\u001b[0m",
            "\u001b[0;31mException\u001b[0m: This is an error message."
          ]
        }
      ]
    },
    {
      "cell_type": "markdown",
      "metadata": {
        "id": "Um7OEmGGG-V6",
        "colab_type": "text"
      },
      "source": [
        "**Program to print box.**"
      ]
    },
    {
      "cell_type": "code",
      "metadata": {
        "id": "EGwEBO-wBCnp",
        "colab_type": "code",
        "colab": {
          "base_uri": "https://localhost:8080/",
          "height": 34
        },
        "outputId": "dbc3ddad-79e1-4046-8076-7d0fd957e2e9"
      },
      "source": [
        "def boxPrint(symbol, width, height):\n",
        "    try:\n",
        "        if len(symbol) != 1:\n",
        "          raise Exception('Symbol must be a single character string.')\n",
        "        if width <= 2:\n",
        "          raise Exception('Width must be greater than 2.')\n",
        "        if height <= 2:\n",
        "          raise Exception('Height must be greater than 2.')\n",
        "        print(symbol * width)\n",
        "        for i in range(height - 2):\n",
        "          print(symbol + (' ' * (width - 2)) + symbol)\n",
        "        print(symbol * width)\n",
        "    except Exception as err:\n",
        "        print('An exception happened: ' + str(err))\n",
        "    \n",
        "boxPrint('x', 1, 3)"
      ],
      "execution_count": 3,
      "outputs": [
        {
          "output_type": "stream",
          "text": [
            "An exception happened: Width must be greater than 2.\n"
          ],
          "name": "stdout"
        }
      ]
    },
    {
      "cell_type": "code",
      "metadata": {
        "id": "oj3ILEzxDiRC",
        "colab_type": "code",
        "colab": {
          "base_uri": "https://localhost:8080/",
          "height": 101
        },
        "outputId": "ceb7d78d-dd0a-4f7c-9923-3faaa430c6e9"
      },
      "source": [
        "boxPrint('#', 20, 5)"
      ],
      "execution_count": 4,
      "outputs": [
        {
          "output_type": "stream",
          "text": [
            "####################\n",
            "#                  #\n",
            "#                  #\n",
            "#                  #\n",
            "####################\n"
          ],
          "name": "stdout"
        }
      ]
    },
    {
      "cell_type": "markdown",
      "metadata": {
        "id": "ADP3GIoMKAoE",
        "colab_type": "text"
      },
      "source": [
        "# Getting a traceback as a string"
      ]
    },
    {
      "cell_type": "code",
      "metadata": {
        "id": "gGv4LxKzFum3",
        "colab_type": "code",
        "colab": {
          "base_uri": "https://localhost:8080/",
          "height": 34
        },
        "outputId": "7995c489-7cb6-4284-8e58-b3e6197380f0"
      },
      "source": [
        "import traceback\n",
        "import os\n",
        "\n",
        "try:\n",
        "  raise Exception('This is the error message.')\n",
        "except:\n",
        "  errorFile = open('errorInfo.txt', 'w')\n",
        "  errorFile.write(traceback.format_exc())\n",
        "  errorFile.close()\n",
        "  print('The traceback info was written to errorTnfo.txt.')"
      ],
      "execution_count": 5,
      "outputs": [
        {
          "output_type": "stream",
          "text": [
            "The traceback info was written to errorTnfo.txt.\n"
          ],
          "name": "stdout"
        }
      ]
    },
    {
      "cell_type": "code",
      "metadata": {
        "id": "nGdWIdRlR8Zf",
        "colab_type": "code",
        "colab": {
          "base_uri": "https://localhost:8080/",
          "height": 34
        },
        "outputId": "a930ac80-468e-4aff-eca4-037e0f36087f"
      },
      "source": [
        "errorFile"
      ],
      "execution_count": 47,
      "outputs": [
        {
          "output_type": "execute_result",
          "data": {
            "text/plain": [
              "<_io.TextIOWrapper name='errorInfo.txt' mode='w' encoding='UTF-8'>"
            ]
          },
          "metadata": {
            "tags": []
          },
          "execution_count": 47
        }
      ]
    },
    {
      "cell_type": "markdown",
      "metadata": {
        "id": "rLZL6Fr7Sw11",
        "colab_type": "text"
      },
      "source": [
        "# Assertions"
      ]
    },
    {
      "cell_type": "code",
      "metadata": {
        "id": "9ACtgBSpUHg6",
        "colab_type": "code",
        "colab": {}
      },
      "source": [
        "DoorStatus = 'open'\n",
        "assert DoorStatus == 'open', 'The pod bay doors need to be \"open\",'\n"
      ],
      "execution_count": 0,
      "outputs": []
    },
    {
      "cell_type": "code",
      "metadata": {
        "id": "8LGvo5E_8toH",
        "colab_type": "code",
        "colab": {
          "base_uri": "https://localhost:8080/",
          "height": 195
        },
        "outputId": "a6517bcd-1850-4b28-ca97-f07569267d3a"
      },
      "source": [
        "\n",
        "DoorStatus = 'I\\'m sorry, Dave. I\\'m afraid I can\\'t do that.'\n",
        "assert DoorStatus == 'open', 'The pod bay doors need to be \"open\".'"
      ],
      "execution_count": 17,
      "outputs": [
        {
          "output_type": "error",
          "ename": "AssertionError",
          "evalue": "ignored",
          "traceback": [
            "\u001b[0;31m---------------------------------------------------------------------------\u001b[0m",
            "\u001b[0;31mAssertionError\u001b[0m                            Traceback (most recent call last)",
            "\u001b[0;32m<ipython-input-17-f6b8017942cd>\u001b[0m in \u001b[0;36m<module>\u001b[0;34m()\u001b[0m\n\u001b[1;32m      1\u001b[0m \u001b[0;34m\u001b[0m\u001b[0m\n\u001b[1;32m      2\u001b[0m \u001b[0mDoorStatus\u001b[0m \u001b[0;34m=\u001b[0m \u001b[0;34m'I\\'m sorry, Dave. I\\'m afraid I can\\'t do that.'\u001b[0m\u001b[0;34m\u001b[0m\u001b[0;34m\u001b[0m\u001b[0m\n\u001b[0;32m----> 3\u001b[0;31m \u001b[0;32massert\u001b[0m \u001b[0mDoorStatus\u001b[0m \u001b[0;34m==\u001b[0m \u001b[0;34m'open'\u001b[0m\u001b[0;34m,\u001b[0m \u001b[0;34m'The pod bay doors need to be \"open\".'\u001b[0m\u001b[0;34m\u001b[0m\u001b[0;34m\u001b[0m\u001b[0m\n\u001b[0m",
            "\u001b[0;31mAssertionError\u001b[0m: The pod bay doors need to be \"open\"."
          ]
        }
      ]
    },
    {
      "cell_type": "markdown",
      "metadata": {
        "id": "hZZ7ZG4k-Z3E",
        "colab_type": "text"
      },
      "source": [
        "**Using an assertion in a traffic light simulation.**"
      ]
    },
    {
      "cell_type": "code",
      "metadata": {
        "id": "f8BaPhai8-UO",
        "colab_type": "code",
        "colab": {}
      },
      "source": [
        "market_2nd = {'ns': 'green', 'ew': 'red'}\n",
        "mission_16th = {'ns': 'red', 'ew': 'green'}"
      ],
      "execution_count": 0,
      "outputs": []
    },
    {
      "cell_type": "code",
      "metadata": {
        "id": "GXoLXV_l-Uwu",
        "colab_type": "code",
        "colab": {}
      },
      "source": [
        "def switchLight(stoplight):\n",
        "  for key in stoplight.keys():\n",
        "    if stoplight[key] == 'green':\n",
        "      stoplight[key] = 'yellow'\n",
        "    elif stoplight[key] == 'yellow':\n",
        "      stoplight[key] = 'red'\n",
        "    elif stoplight[key] == 'red':\n",
        "      stoplight[key] = 'green'\n",
        "    assert 'red' in  stoplight.values(), 'Neither light is red! ' + str(stoplight) \n"
      ],
      "execution_count": 0,
      "outputs": []
    },
    {
      "cell_type": "code",
      "metadata": {
        "id": "WzidngGl_PaP",
        "colab_type": "code",
        "colab": {
          "base_uri": "https://localhost:8080/",
          "height": 266
        },
        "outputId": "b44ddf38-05e9-4d2a-901a-9f4602d95b02"
      },
      "source": [
        "switchLight(mission_16th)"
      ],
      "execution_count": 27,
      "outputs": [
        {
          "output_type": "error",
          "ename": "AssertionError",
          "evalue": "ignored",
          "traceback": [
            "\u001b[0;31m---------------------------------------------------------------------------\u001b[0m",
            "\u001b[0;31mAssertionError\u001b[0m                            Traceback (most recent call last)",
            "\u001b[0;32m<ipython-input-27-37663ca327f2>\u001b[0m in \u001b[0;36m<module>\u001b[0;34m()\u001b[0m\n\u001b[0;32m----> 1\u001b[0;31m \u001b[0mswitchLight\u001b[0m\u001b[0;34m(\u001b[0m\u001b[0mmission_16th\u001b[0m\u001b[0;34m)\u001b[0m\u001b[0;34m\u001b[0m\u001b[0;34m\u001b[0m\u001b[0m\n\u001b[0m",
            "\u001b[0;32m<ipython-input-25-4a2b91386749>\u001b[0m in \u001b[0;36mswitchLight\u001b[0;34m(stoplight)\u001b[0m\n\u001b[1;32m      7\u001b[0m     \u001b[0;32melif\u001b[0m \u001b[0mstoplight\u001b[0m\u001b[0;34m[\u001b[0m\u001b[0mkey\u001b[0m\u001b[0;34m]\u001b[0m \u001b[0;34m==\u001b[0m \u001b[0;34m'red'\u001b[0m\u001b[0;34m:\u001b[0m\u001b[0;34m\u001b[0m\u001b[0;34m\u001b[0m\u001b[0m\n\u001b[1;32m      8\u001b[0m       \u001b[0mstoplight\u001b[0m\u001b[0;34m[\u001b[0m\u001b[0mkey\u001b[0m\u001b[0;34m]\u001b[0m \u001b[0;34m=\u001b[0m \u001b[0;34m'green'\u001b[0m\u001b[0;34m\u001b[0m\u001b[0;34m\u001b[0m\u001b[0m\n\u001b[0;32m----> 9\u001b[0;31m     \u001b[0;32massert\u001b[0m \u001b[0;34m'red'\u001b[0m \u001b[0;32min\u001b[0m  \u001b[0mstoplight\u001b[0m\u001b[0;34m.\u001b[0m\u001b[0mvalues\u001b[0m\u001b[0;34m(\u001b[0m\u001b[0;34m)\u001b[0m\u001b[0;34m,\u001b[0m \u001b[0;34m'Neither light is red! '\u001b[0m \u001b[0;34m+\u001b[0m \u001b[0mstr\u001b[0m\u001b[0;34m(\u001b[0m\u001b[0mstoplight\u001b[0m\u001b[0;34m)\u001b[0m\u001b[0;34m\u001b[0m\u001b[0;34m\u001b[0m\u001b[0m\n\u001b[0m",
            "\u001b[0;31mAssertionError\u001b[0m: Neither light is red! {'ns': 'green', 'ew': 'green'}"
          ]
        }
      ]
    },
    {
      "cell_type": "markdown",
      "metadata": {
        "id": "DWA5ntzfAOzc",
        "colab_type": "text"
      },
      "source": [
        "# Logging"
      ]
    },
    {
      "cell_type": "code",
      "metadata": {
        "id": "IjbXAwQp_T5W",
        "colab_type": "code",
        "colab": {
          "base_uri": "https://localhost:8080/",
          "height": 34
        },
        "outputId": "e2d0b577-b5c3-465c-fe5b-274584be889b"
      },
      "source": [
        "import logging\n",
        "logging.basicConfig(level=logging.DEBUG, format=' %(asctime)s - %(levelname)s - %(message)s')\n",
        "logging.debug('Start of program')\n",
        "\n",
        "def factorial (n):\n",
        "  logging.debug('Start of factorial(%s)' % (n))\n",
        "  total = 1\n",
        "  for i in range(1, n + 1):\n",
        "    total *= i\n",
        "    logging.debug('i is ' + str(i) + ', total is ' + str(total))\n",
        "  logging.debug('End of factorial(%s) ' % (n))\n",
        "  return total\n",
        "\n",
        "print(factorial(5))\n",
        "logging.debug('End of program')\n"
      ],
      "execution_count": 40,
      "outputs": [
        {
          "output_type": "stream",
          "text": [
            "120\n"
          ],
          "name": "stdout"
        }
      ]
    },
    {
      "cell_type": "markdown",
      "metadata": {
        "id": "v4Nx__b5EDA5",
        "colab_type": "text"
      },
      "source": [
        "**Don’t Debug with print()**"
      ]
    },
    {
      "cell_type": "code",
      "metadata": {
        "id": "mzxgS256BviZ",
        "colab_type": "code",
        "colab": {}
      },
      "source": [
        "logging.disable(logging.CRITICAL)"
      ],
      "execution_count": 0,
      "outputs": []
    },
    {
      "cell_type": "code",
      "metadata": {
        "id": "mO2PLuE6DDYC",
        "colab_type": "code",
        "colab": {}
      },
      "source": [
        ""
      ],
      "execution_count": 0,
      "outputs": []
    }
  ]
}
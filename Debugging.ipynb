{
  "nbformat": 4,
  "nbformat_minor": 0,
  "metadata": {
    "colab": {
      "name": "Debugging.ipynb",
      "provenance": [],
      "include_colab_link": true
    },
    "kernelspec": {
      "name": "python3",
      "display_name": "Python 3"
    }
  },
  "cells": [
    {
      "cell_type": "markdown",
      "metadata": {
        "id": "view-in-github",
        "colab_type": "text"
      },
      "source": [
        "<a href=\"https://colab.research.google.com/github/kool7/Colab/blob/master/Debugging.ipynb\" target=\"_parent\"><img src=\"https://colab.research.google.com/assets/colab-badge.svg\" alt=\"Open In Colab\"/></a>"
      ]
    },
    {
      "cell_type": "markdown",
      "metadata": {
        "id": "jCtnzjuQA4_1",
        "colab_type": "text"
      },
      "source": [
        " # Debugging"
      ]
    },
    {
      "cell_type": "code",
      "metadata": {
        "id": "KH9Xjp5QAg26",
        "colab_type": "code",
        "colab": {
          "base_uri": "https://localhost:8080/",
          "height": 162
        },
        "outputId": "42ce81a3-9302-4ad1-f402-e5433917b137"
      },
      "source": [
        "raise Exception('This is an error message.')"
      ],
      "execution_count": 1,
      "outputs": [
        {
          "output_type": "error",
          "ename": "Exception",
          "evalue": "ignored",
          "traceback": [
            "\u001b[0;31m---------------------------------------------------------------------------\u001b[0m",
            "\u001b[0;31mException\u001b[0m                                 Traceback (most recent call last)",
            "\u001b[0;32m<ipython-input-1-0f5972cc4120>\u001b[0m in \u001b[0;36m<module>\u001b[0;34m()\u001b[0m\n\u001b[0;32m----> 1\u001b[0;31m \u001b[0;32mraise\u001b[0m \u001b[0mException\u001b[0m\u001b[0;34m(\u001b[0m\u001b[0;34m'This is an error message.'\u001b[0m\u001b[0;34m)\u001b[0m\u001b[0;34m\u001b[0m\u001b[0;34m\u001b[0m\u001b[0m\n\u001b[0m",
            "\u001b[0;31mException\u001b[0m: This is an error message."
          ]
        }
      ]
    },
    {
      "cell_type": "markdown",
      "metadata": {
        "id": "Um7OEmGGG-V6",
        "colab_type": "text"
      },
      "source": [
        "**Program to print box.**"
      ]
    },
    {
      "cell_type": "code",
      "metadata": {
        "id": "EGwEBO-wBCnp",
        "colab_type": "code",
        "colab": {
          "base_uri": "https://localhost:8080/",
          "height": 34
        },
        "outputId": "aed7460e-c1f3-4767-cc29-b4141c8ddbf3"
      },
      "source": [
        "def boxPrint(symbol, width, height):\n",
        "    try:\n",
        "        if len(symbol) != 1:\n",
        "          raise Exception('Symbol must be a single character string.')\n",
        "        if width <= 2:\n",
        "          raise Exception('Width must be greater than 2.')\n",
        "        if height <= 2:\n",
        "          raise Exception('Height must be greater than 2.')\n",
        "        print(symbol * width)\n",
        "        for i in range(height - 2):\n",
        "          print(symbol + (' ' * (width - 2)) + symbol)\n",
        "        print(symbol * width)\n",
        "    except Exception as err:\n",
        "        print('An exception happened: ' + str(err))\n",
        "    \n",
        "boxPrint('x', 1, 3)"
      ],
      "execution_count": 37,
      "outputs": [
        {
          "output_type": "stream",
          "text": [
            "An exception happened: Width must be greater than 2.\n"
          ],
          "name": "stdout"
        }
      ]
    },
    {
      "cell_type": "code",
      "metadata": {
        "id": "oj3ILEzxDiRC",
        "colab_type": "code",
        "colab": {
          "base_uri": "https://localhost:8080/",
          "height": 101
        },
        "outputId": "540f3b62-9c6c-4698-9535-04c43b24b05f"
      },
      "source": [
        "boxPrint('#', 20, 5)"
      ],
      "execution_count": 39,
      "outputs": [
        {
          "output_type": "stream",
          "text": [
            "####################\n",
            "#                  #\n",
            "#                  #\n",
            "#                  #\n",
            "####################\n"
          ],
          "name": "stdout"
        }
      ]
    },
    {
      "cell_type": "markdown",
      "metadata": {
        "id": "ADP3GIoMKAoE",
        "colab_type": "text"
      },
      "source": [
        "# Getting a traceback as a string"
      ]
    },
    {
      "cell_type": "code",
      "metadata": {
        "id": "gGv4LxKzFum3",
        "colab_type": "code",
        "colab": {}
      },
      "source": [
        " "
      ],
      "execution_count": 0,
      "outputs": []
    }
  ]
}
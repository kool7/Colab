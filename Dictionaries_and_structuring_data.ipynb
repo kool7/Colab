{
  "nbformat": 4,
  "nbformat_minor": 0,
  "metadata": {
    "colab": {
      "name": "Dictionaries_and_structuring_data.ipynb",
      "provenance": [],
      "include_colab_link": true
    },
    "kernelspec": {
      "name": "python3",
      "display_name": "Python 3"
    }
  },
  "cells": [
    {
      "cell_type": "markdown",
      "metadata": {
        "id": "view-in-github",
        "colab_type": "text"
      },
      "source": [
        "<a href=\"https://colab.research.google.com/github/kool7/Colab/blob/master/Dictionaries_and_structuring_data.ipynb\" target=\"_parent\"><img src=\"https://colab.research.google.com/assets/colab-badge.svg\" alt=\"Open In Colab\"/></a>"
      ]
    },
    {
      "cell_type": "markdown",
      "metadata": {
        "id": "kC5CwdSEFhm9",
        "colab_type": "text"
      },
      "source": [
        "# Pyhton Dictionary"
      ]
    },
    {
      "cell_type": "code",
      "metadata": {
        "id": "nUZknr0fRsAU",
        "colab_type": "code",
        "outputId": "afbf9b7a-ab94-4c6a-ee8d-7b7abfe1f9d6",
        "colab": {
          "base_uri": "https://localhost:8080/",
          "height": 34
        }
      },
      "source": [
        "# Python dictionary\n",
        "\n",
        "myCat = {'size': 'fat',\n",
        "        'color': 'gray',\n",
        "        'disposition': 'loud'}\n",
        "myCat"
      ],
      "execution_count": 1,
      "outputs": [
        {
          "output_type": "execute_result",
          "data": {
            "text/plain": [
              "{'color': 'gray', 'disposition': 'loud', 'size': 'fat'}"
            ]
          },
          "metadata": {
            "tags": []
          },
          "execution_count": 1
        }
      ]
    },
    {
      "cell_type": "code",
      "metadata": {
        "id": "oyECfsHiTrbb",
        "colab_type": "code",
        "colab": {
          "base_uri": "https://localhost:8080/",
          "height": 302
        },
        "outputId": "b1c0dd93-d4c7-485f-9971-0dc418b481d9"
      },
      "source": [
        "# Program dictionary update.\n",
        "\n",
        "birthdays = {'Pavan': 'Sep 17', 'Chetan': 'Jan 24', 'Kuldeep': 'June 7'}\n",
        "\n",
        "while True:\n",
        "  print('Enter a name: (blank to quit)')\n",
        "  name = input()\n",
        "  if name == '':\n",
        "    break\n",
        "    \n",
        "  if name in birthdays:\n",
        "    print(birthdays[name] + ' is the birthday of ' + name)\n",
        "  else:\n",
        "    print('I do not have bithday information for ' + name)\n",
        "    print('What is their birthday?')\n",
        "    bday = input()\n",
        "    birthdays[name] = bday\n",
        "    print('Birthday database updated.')\n",
        "\n"
      ],
      "execution_count": 10,
      "outputs": [
        {
          "output_type": "stream",
          "text": [
            "Enter a name: (blank to quit)\n",
            "Pavan\n",
            "Sep 17 is the birthday of Pavan\n",
            "Enter a name: (blank to quit)\n",
            "Chetan\n",
            "Jan 24 is the birthday of Chetan\n",
            "Enter a name: (blank to quit)\n",
            "Kuldeep\n",
            "June 7 is the birthday of Kuldeep\n",
            "Enter a name: (blank to quit)\n",
            "Sunil\n",
            "I do not have bithday information for Sunil\n",
            "What is their birthday?\n",
            "Sep 21\n",
            "Birthday database updated.\n",
            "Enter a name: (blank to quit)\n",
            "\n"
          ],
          "name": "stdout"
        }
      ]
    },
    {
      "cell_type": "code",
      "metadata": {
        "id": "L2pyDWa7HggI",
        "colab_type": "code",
        "colab": {}
      },
      "source": [
        ""
      ],
      "execution_count": 0,
      "outputs": []
    }
  ]
}
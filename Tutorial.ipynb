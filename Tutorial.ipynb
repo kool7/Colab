{
  "nbformat": 4,
  "nbformat_minor": 0,
  "metadata": {
    "colab": {
      "name": "Tutorial.ipynb",
      "provenance": [],
      "include_colab_link": true
    },
    "kernelspec": {
      "name": "python3",
      "display_name": "Python 3"
    }
  },
  "cells": [
    {
      "cell_type": "markdown",
      "metadata": {
        "id": "view-in-github",
        "colab_type": "text"
      },
      "source": [
        "<a href=\"https://colab.research.google.com/github/kool7/Colab/blob/master/Tutorial.ipynb\" target=\"_parent\"><img src=\"https://colab.research.google.com/assets/colab-badge.svg\" alt=\"Open In Colab\"/></a>"
      ]
    },
    {
      "cell_type": "markdown",
      "metadata": {
        "id": "1fyV_jw_ln2c",
        "colab_type": "text"
      },
      "source": [
        "# Input\n",
        "We are going to see how we can pass input to python. "
      ]
    },
    {
      "cell_type": "code",
      "metadata": {
        "id": "FIdKzepJA0Kb",
        "colab_type": "code",
        "outputId": "fced34f8-0e32-4f58-bd39-15547618e74a",
        "colab": {
          "base_uri": "https://localhost:8080/",
          "height": 252
        }
      },
      "source": [
        "print('Hello World!')\n",
        "print(\"What is your name?\") \n",
        "myName = input()\n",
        "\n",
        "print(\"It is good to meet you, \" + myName)\n",
        "# print(\"The Length of your name is:\")\n",
        "# print(len(myName))\n",
        "\n",
        "print(\"What is your age?\")\n",
        "myAge = input()\n",
        "print(\"You will be \" + str(int(myAge) + 1) + \" in a year.\")\n",
        "\n",
        "print(\"How can I help you?\")\n",
        "input()\n",
        "\n",
        "print(\"Okay, Which slot you prefer:\\n\"\n",
        "      \"10:00 - 12:00 am\\n\"\n",
        "       \"4:00 - 6:00 pm\")\n",
        "\n",
        "add = input()\n",
        "print(\"Your appointment is at \" + add)"
      ],
      "execution_count": 0,
      "outputs": [
        {
          "output_type": "stream",
          "text": [
            "Hello World!\n",
            "What is your name?\n",
            "Kuldeep\n",
            "It is good to meet you, Kuldeep\n",
            "What is your age?\n",
            "22\n",
            "You will be 23 in a year.\n",
            "How can I help you?\n",
            "I need an appointment\n",
            "Okay, Which slot you prefer:\n",
            "10:00 - 12:00 am\n",
            "4:00 - 6:00 pm\n",
            "4:30 pm\n",
            "Your appointment is at 4:30 pm\n"
          ],
          "name": "stdout"
        }
      ]
    },
    {
      "cell_type": "markdown",
      "metadata": {
        "id": "iyEnlCEPskpj",
        "colab_type": "text"
      },
      "source": [
        "# Conditional statements"
      ]
    },
    {
      "cell_type": "code",
      "metadata": {
        "id": "2nw5xwQCqCG5",
        "colab_type": "code",
        "outputId": "dc9b90ed-012e-4950-dabb-99e7314395f8",
        "colab": {
          "base_uri": "https://localhost:8080/",
          "height": 50
        }
      },
      "source": [
        "password  = input()\n",
        "if password == password:\n",
        "  print(\"Access granted\")\n",
        "else:\n",
        "  print(\"Wrong password\")"
      ],
      "execution_count": 0,
      "outputs": [
        {
          "output_type": "stream",
          "text": [
            "kuldeep\n",
            "Access granted\n"
          ],
          "name": "stdout"
        }
      ]
    },
    {
      "cell_type": "markdown",
      "metadata": {
        "id": "sHn_JZVpt3WM",
        "colab_type": "text"
      },
      "source": [
        "# Loops"
      ]
    },
    {
      "cell_type": "code",
      "metadata": {
        "id": "ry7KFYdnt1gn",
        "colab_type": "code",
        "outputId": "89d0cf66-1612-4af2-a411-fbb08ef60efc",
        "colab": {
          "base_uri": "https://localhost:8080/",
          "height": 101
        }
      },
      "source": [
        "spam = 0\n",
        "while spam < 5:\n",
        "  print(\"Hi! Kuldeep\")\n",
        "  spam += 1"
      ],
      "execution_count": 0,
      "outputs": [
        {
          "output_type": "stream",
          "text": [
            "Hi! Kuldeep\n",
            "Hi! Kuldeep\n",
            "Hi! Kuldeep\n",
            "Hi! Kuldeep\n",
            "Hi! Kuldeep\n"
          ],
          "name": "stdout"
        }
      ]
    },
    {
      "cell_type": "code",
      "metadata": {
        "id": "Wcw_fG1vzD0r",
        "colab_type": "code",
        "outputId": "7f8974b9-906d-47bc-cda1-a52605eac3af",
        "colab": {
          "base_uri": "https://localhost:8080/",
          "height": 67
        }
      },
      "source": [
        "name = ''\n",
        "while name != \"Kuldeep\":\n",
        "  print(\"Please type your name.\")\n",
        "  name = input()\n",
        "print(\"Thank you!\")"
      ],
      "execution_count": 0,
      "outputs": [
        {
          "output_type": "stream",
          "text": [
            "Please type your name.\n",
            "Kuldeep\n",
            "Thank you!\n"
          ],
          "name": "stdout"
        }
      ]
    }
  ]
}
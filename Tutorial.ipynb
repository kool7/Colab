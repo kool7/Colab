{
  "nbformat": 4,
  "nbformat_minor": 0,
  "metadata": {
    "colab": {
      "name": "Tutorial.ipynb",
      "provenance": [],
      "include_colab_link": true
    },
    "kernelspec": {
      "name": "python3",
      "display_name": "Python 3"
    }
  },
  "cells": [
    {
      "cell_type": "markdown",
      "metadata": {
        "id": "view-in-github",
        "colab_type": "text"
      },
      "source": [
        "<a href=\"https://colab.research.google.com/github/kool7/Colab/blob/master/Tutorial.ipynb\" target=\"_parent\"><img src=\"https://colab.research.google.com/assets/colab-badge.svg\" alt=\"Open In Colab\"/></a>"
      ]
    },
    {
      "cell_type": "markdown",
      "metadata": {
        "id": "1fyV_jw_ln2c",
        "colab_type": "text"
      },
      "source": [
        "# Input\n",
        "We are going to see how we can pass input to python. "
      ]
    },
    {
      "cell_type": "code",
      "metadata": {
        "id": "FIdKzepJA0Kb",
        "colab_type": "code",
        "outputId": "78a2e518-5476-48c0-8ff2-8ce34cbc2daa",
        "colab": {
          "base_uri": "https://localhost:8080/",
          "height": 252
        }
      },
      "source": [
        "print('Hello World!')\n",
        "print(\"What is your name?\") \n",
        "myName = input()\n",
        "\n",
        "print(\"It is good to meet you, \" + myName)\n",
        "# print(\"The Length of your name is:\")\n",
        "# print(len(myName))\n",
        "\n",
        "print(\"What is your age?\")\n",
        "myAge = input()\n",
        "print(\"You will be \" + str(int(myAge) + 1) + \" in a year.\")\n",
        "\n",
        "print(\"How can I help you?\")\n",
        "input()\n",
        "\n",
        "print(\"Okay, Which slot you prefer:\\n\"\n",
        "      \"10:00 - 12:00 am\\n\"\n",
        "       \"4:00 - 6:00 pm\")\n",
        "\n",
        "add = input()\n",
        "print(\"Your appointment is at \" + add)"
      ],
      "execution_count": 0,
      "outputs": [
        {
          "output_type": "stream",
          "text": [
            "Hello World!\n",
            "What is your name?\n",
            "Kuldeep Singh HCoyhan\n",
            "It is good to meet you, Kuldeep Singh HCoyhan\n",
            "What is your age?\n",
            "22\n",
            "You will be 23 in a year.\n",
            "How can I help you?\n",
            "I need an appointment\n",
            "Okay, Which slot you prefer:\n",
            "10:00 - 12:00 am\n",
            "4:00 - 6:00 pm\n",
            "10\n",
            "Your appointment is at 10\n"
          ],
          "name": "stdout"
        }
      ]
    },
    {
      "cell_type": "markdown",
      "metadata": {
        "id": "iyEnlCEPskpj",
        "colab_type": "text"
      },
      "source": [
        "# Conditional statements"
      ]
    },
    {
      "cell_type": "code",
      "metadata": {
        "id": "2nw5xwQCqCG5",
        "colab_type": "code",
        "outputId": "b5e21a58-90c8-4c41-cb2c-3d1647c1c09c",
        "colab": {
          "base_uri": "https://localhost:8080/",
          "height": 101
        }
      },
      "source": [
        "#Enter name\n",
        "print(\"Enter a name.\")\n",
        "name = input()\n",
        "\n",
        "#Enter Password\n",
        "print(\"Welcome \" + name + \" Enter your password\")\n",
        "password  = input()\n",
        "if password != \"\":\n",
        "  print(\"Access granted\")\n",
        "else:\n",
        "  print(\"Wrong password\")"
      ],
      "execution_count": 0,
      "outputs": [
        {
          "output_type": "stream",
          "text": [
            "Enter a name.\n",
            "d\n",
            "Welcome d Enter your password\n",
            "d\n",
            "Access granted\n"
          ],
          "name": "stdout"
        }
      ]
    },
    {
      "cell_type": "code",
      "metadata": {
        "id": "Ac9Eob9nIeqy",
        "colab_type": "code",
        "colab": {}
      },
      "source": [
        ""
      ],
      "execution_count": 0,
      "outputs": []
    },
    {
      "cell_type": "markdown",
      "metadata": {
        "id": "sHn_JZVpt3WM",
        "colab_type": "text"
      },
      "source": [
        "# Loops"
      ]
    },
    {
      "cell_type": "code",
      "metadata": {
        "id": "ry7KFYdnt1gn",
        "colab_type": "code",
        "outputId": "89d0cf66-1612-4af2-a411-fbb08ef60efc",
        "colab": {
          "base_uri": "https://localhost:8080/",
          "height": 101
        }
      },
      "source": [
        "spam = 0\n",
        "while spam < 5:\n",
        "  print(\"Hi! Kuldeep\")\n",
        "  spam += 1"
      ],
      "execution_count": 0,
      "outputs": [
        {
          "output_type": "stream",
          "text": [
            "Hi! Kuldeep\n",
            "Hi! Kuldeep\n",
            "Hi! Kuldeep\n",
            "Hi! Kuldeep\n",
            "Hi! Kuldeep\n"
          ],
          "name": "stdout"
        }
      ]
    },
    {
      "cell_type": "code",
      "metadata": {
        "id": "Wcw_fG1vzD0r",
        "colab_type": "code",
        "outputId": "44d44bc7-a244-45b6-95e6-708c4b20e91f",
        "colab": {
          "base_uri": "https://localhost:8080/",
          "height": 67
        }
      },
      "source": [
        "name = ''\n",
        "while True:\n",
        "  print(\"Please type your name.\")\n",
        "  name = input()\n",
        "  if name == \"Kuldeep\":\n",
        "    break\n",
        "print(\"Welcome back boss\")"
      ],
      "execution_count": 0,
      "outputs": [
        {
          "output_type": "stream",
          "text": [
            "Please type your name.\n",
            "Kuldeep\n",
            "Welcome back boss\n"
          ],
          "name": "stdout"
        }
      ]
    },
    {
      "cell_type": "code",
      "metadata": {
        "id": "atv75KlMLXg7",
        "colab_type": "code",
        "outputId": "3e17a40b-3fbe-4198-8a48-b68b25442324",
        "colab": {
          "base_uri": "https://localhost:8080/",
          "height": 185
        }
      },
      "source": [
        "for i in range(5):\n",
        "  print(\"Please type your name.\")\n",
        "  input()"
      ],
      "execution_count": 0,
      "outputs": [
        {
          "output_type": "stream",
          "text": [
            "Please type your name.\n",
            "Kuldeep\n",
            "Please type your name.\n",
            "kuldeep\n",
            "Please type your name.\n",
            "gul\n",
            "Please type your name.\n",
            "indresh\n",
            "Please type your name.\n",
            "deep\n"
          ],
          "name": "stdout"
        }
      ]
    },
    {
      "cell_type": "markdown",
      "metadata": {
        "id": "WSsXSwQIRefr",
        "colab_type": "text"
      },
      "source": [
        "# Functions\n",
        "\n"
      ]
    },
    {
      "cell_type": "code",
      "metadata": {
        "id": "alMeXRwkS2UM",
        "colab_type": "code",
        "outputId": "ae325b02-150d-4d2f-f04c-59cb7fe6456c",
        "colab": {
          "base_uri": "https://localhost:8080/",
          "height": 34
        }
      },
      "source": [
        "# A simple function that returns a value \n",
        "\n",
        "def plusOne(number):\n",
        "  return number + 1\n",
        "\n",
        "plusOne(5)"
      ],
      "execution_count": 0,
      "outputs": [
        {
          "output_type": "execute_result",
          "data": {
            "text/plain": [
              "6"
            ]
          },
          "metadata": {
            "tags": []
          },
          "execution_count": 2
        }
      ]
    },
    {
      "cell_type": "code",
      "metadata": {
        "id": "olK6p1d1BHFO",
        "colab_type": "code",
        "outputId": "69c174c6-304c-4f5c-98ce-098d1c7edcb5",
        "colab": {
          "base_uri": "https://localhost:8080/",
          "height": 195
        }
      },
      "source": [
        "# (1) Local variable can not be used in  the global scope.\n",
        "\n",
        "def spam():\n",
        "  egg = 99\n",
        "  \n",
        "spam()  \n",
        "print(egg)"
      ],
      "execution_count": 0,
      "outputs": [
        {
          "output_type": "error",
          "ename": "NameError",
          "evalue": "ignored",
          "traceback": [
            "\u001b[0;31m---------------------------------------------------------------------------\u001b[0m",
            "\u001b[0;31mNameError\u001b[0m                                 Traceback (most recent call last)",
            "\u001b[0;32m<ipython-input-11-afe0112b681f>\u001b[0m in \u001b[0;36m<module>\u001b[0;34m()\u001b[0m\n\u001b[1;32m      4\u001b[0m \u001b[0;34m\u001b[0m\u001b[0m\n\u001b[1;32m      5\u001b[0m \u001b[0mspam\u001b[0m\u001b[0;34m(\u001b[0m\u001b[0;34m)\u001b[0m\u001b[0;34m\u001b[0m\u001b[0;34m\u001b[0m\u001b[0m\n\u001b[0;32m----> 6\u001b[0;31m \u001b[0mprint\u001b[0m\u001b[0;34m(\u001b[0m\u001b[0megg\u001b[0m\u001b[0;34m)\u001b[0m\u001b[0;34m\u001b[0m\u001b[0;34m\u001b[0m\u001b[0m\n\u001b[0m",
            "\u001b[0;31mNameError\u001b[0m: name 'egg' is not defined"
          ]
        }
      ]
    },
    {
      "cell_type": "code",
      "metadata": {
        "id": "Oh8cV3sn6jCI",
        "colab_type": "code",
        "outputId": "020f9f0a-ccfc-4465-f74a-196313aff883",
        "colab": {
          "base_uri": "https://localhost:8080/",
          "height": 50
        }
      },
      "source": [
        "# (2) A variable in one function's local scope can not use \n",
        "# the variable in another function's local scope.\n",
        "\n",
        "def spam():\n",
        "  eggs = 99\n",
        "  bacon()\n",
        "  print(eggs)\n",
        "  \n",
        "def bacon():\n",
        "  ham = 101\n",
        "  eggs = 0\n",
        "  return ham, eggs\n",
        "  \n",
        "spam()\n",
        "bacon()"
      ],
      "execution_count": 0,
      "outputs": [
        {
          "output_type": "stream",
          "text": [
            "99\n"
          ],
          "name": "stdout"
        },
        {
          "output_type": "execute_result",
          "data": {
            "text/plain": [
              "(101, 0)"
            ]
          },
          "metadata": {
            "tags": []
          },
          "execution_count": 6
        }
      ]
    },
    {
      "cell_type": "code",
      "metadata": {
        "id": "Cr1Jdscs_4GC",
        "colab_type": "code",
        "outputId": "390eb4a8-978e-469e-a683-b75268bbdec6",
        "colab": {
          "base_uri": "https://localhost:8080/",
          "height": 34
        }
      },
      "source": [
        "# (3) Global variable can be read from the local scope.\n",
        "\n",
        "def spam():\n",
        "  print(eggs)\n",
        "  \n",
        "eggs = 42\n",
        "spam()"
      ],
      "execution_count": 0,
      "outputs": [
        {
          "output_type": "stream",
          "text": [
            "42\n"
          ],
          "name": "stdout"
        }
      ]
    },
    {
      "cell_type": "markdown",
      "metadata": {
        "id": "o2nWRb4IBT1F",
        "colab_type": "text"
      },
      "source": [
        "1. If there is an assignment statement for variable in particular funnction that it is local variable.\n",
        "\n",
        "2. If there isn't any assignment statement then python will check if there is any global variable by that name and assign it that value.\n",
        "\n",
        "Assignment statement = Local variable\n",
        "\n",
        "\n",
        "No assignment statement = Global variable"
      ]
    },
    {
      "cell_type": "code",
      "metadata": {
        "id": "PkwEm88fDInk",
        "colab_type": "code",
        "outputId": "f6885326-c61b-4c16-c74b-0513b9e0e6b5",
        "colab": {
          "base_uri": "https://localhost:8080/",
          "height": 34
        }
      },
      "source": [
        "def car():\n",
        "  global car\n",
        "  car = \"Hello\"\n",
        "  print(car)\n",
        "  \n",
        "car = 77\n",
        "spam()\n"
      ],
      "execution_count": 0,
      "outputs": [
        {
          "output_type": "stream",
          "text": [
            "Hello\n"
          ],
          "name": "stdout"
        }
      ]
    },
    {
      "cell_type": "markdown",
      "metadata": {
        "id": "9FQU4UqmE4oZ",
        "colab_type": "text"
      },
      "source": [
        "# Try And Except\n",
        "\n",
        "How to handle error in python? "
      ]
    },
    {
      "cell_type": "code",
      "metadata": {
        "id": "Z33s0B5jFTjB",
        "colab_type": "code",
        "outputId": "88f77512-70d9-4a35-a80c-3b5ab12f17ca",
        "colab": {
          "base_uri": "https://localhost:8080/",
          "height": 67
        }
      },
      "source": [
        "def div42by(divideBy):\n",
        "  try:\n",
        "    return 42/ divideBy\n",
        "  except ZeroDivisionError: \n",
        "    print(\"WARNING: You tried to divide by zero.\" )\n",
        "    \n",
        "    \n",
        "print(div42by(2))\n",
        "print(div42by(0))"
      ],
      "execution_count": 0,
      "outputs": [
        {
          "output_type": "stream",
          "text": [
            "21.0\n",
            "WARNING: You tried to divide by zero.\n",
            "None\n"
          ],
          "name": "stdout"
        }
      ]
    },
    {
      "cell_type": "code",
      "metadata": {
        "id": "brUlXN1QGzVa",
        "colab_type": "code",
        "outputId": "8e75b244-f5f1-4325-b8c2-6e0e4edea164",
        "colab": {
          "base_uri": "https://localhost:8080/",
          "height": 269
        }
      },
      "source": [
        "\n",
        "print('How many cats you have?')\n",
        "numCats = input()\n",
        "\n",
        "try:\n",
        "  if int(numCats) >= 4:\n",
        "    print(\"That's a lot of cats.\")\n",
        "  else:\n",
        "    print(\"That is not that many cats.\")\n",
        "except ValueError:\n",
        "  print(\"You did not a enter a number.\")"
      ],
      "execution_count": 0,
      "outputs": [
        {
          "output_type": "stream",
          "text": [
            "How many cats you have?\n",
            "3\n",
            "That is not that many cats.\n",
            "How many cats you have?\n",
            "4\n",
            "That's a lot of cats.\n",
            "How many cats you have?\n",
            "6\n",
            "That's a lot of cats.\n",
            "How many cats you have?\n",
            "7\n",
            "That's a lot of cats.\n",
            "How many cats you have?\n",
            "8\n",
            "That's a lot of cats.\n"
          ],
          "name": "stdout"
        }
      ]
    },
    {
      "cell_type": "markdown",
      "metadata": {
        "id": "asEztc4XIVW0",
        "colab_type": "text"
      },
      "source": [
        "# Programming\n",
        "\n",
        "A simple guess the number game."
      ]
    },
    {
      "cell_type": "code",
      "metadata": {
        "id": "7Hpr9uupIZNJ",
        "colab_type": "code",
        "outputId": "1fcf9742-a489-4301-e9a5-501eff7896e9",
        "colab": {
          "base_uri": "https://localhost:8080/",
          "height": 319
        }
      },
      "source": [
        "import random\n",
        "\n",
        "print('Hello. What is your name?')\n",
        "name = input()\n",
        "\n",
        "print('Well, ' + name + ', I am thinking of a number game between 1 to 20')\n",
        "secretNumber = random.randint(1, 20)\n",
        "\n",
        "for guessesTaken in range(1, 7):\n",
        "  print('Take a guess.')\n",
        "  guess = int(input())\n",
        "  \n",
        "  if guess < secretNumber:\n",
        "    print('Your guess is too low.')\n",
        "  elif guess > secretNumber:\n",
        "    print('Your guess is too high.')\n",
        "  else:\n",
        "    break\n",
        "    \n",
        "if guess == secretNumber:\n",
        "  print('Good Job, ' + name + '!You guessed my number in' + str(guessesTaken)+' guesses')\n",
        "else:\n",
        "  print('Nope. The number I was thinking was ' + str(secretNumber))\n",
        "  "
      ],
      "execution_count": 31,
      "outputs": [
        {
          "output_type": "stream",
          "text": [
            "Hello. What is your name?\n",
            "kkd\n",
            "Well, kkd, I am thinking of a number game between 1 to 20\n",
            "Take a guess.\n",
            "4\n",
            "Your guess is too low.\n",
            "Take a guess.\n",
            "12\n",
            "Your guess is too high.\n",
            "Take a guess.\n",
            "7\n",
            "Your guess is too high.\n",
            "Take a guess.\n",
            "6\n",
            "Your guess is too high.\n",
            "Take a guess.\n",
            "5\n",
            "Good Job, kkd! You guessed my number in5 guesses\n"
          ],
          "name": "stdout"
        }
      ]
    },
    {
      "cell_type": "markdown",
      "metadata": {
        "id": "2qFVSasZTQ01",
        "colab_type": "text"
      },
      "source": [
        "# Lists\n",
        "\n"
      ]
    },
    {
      "cell_type": "code",
      "metadata": {
        "id": "6-ClS7sxTSDn",
        "colab_type": "code",
        "colab": {
          "base_uri": "https://localhost:8080/",
          "height": 67
        },
        "outputId": "60c19775-944b-4905-9dd5-994624c06c28"
      },
      "source": [
        "# Working with lists.\n",
        "catNames = []\n",
        "\n",
        "while True:\n",
        "  print('Enter the name of cat ' + str(len(catNames) + 1) +\n",
        "        ' (or enter nothing to stop.):')\n",
        "  \n",
        "  name = input()\n",
        "  \n",
        "  if name == '':\n",
        "    break\n",
        "    \n",
        "  catNames = catNames + [name]\n",
        "print('The cat names are:')\n",
        "\n",
        "for name in catNames:\n",
        "  print('  ' + name)\n",
        "  "
      ],
      "execution_count": 34,
      "outputs": [
        {
          "output_type": "stream",
          "text": [
            "Enter the name of cat 1 (or enter nothing to stop.):\n",
            "\n",
            "The cat names are:\n"
          ],
          "name": "stdout"
        }
      ]
    },
    {
      "cell_type": "code",
      "metadata": {
        "id": "daGWqzw9sp7S",
        "colab_type": "code",
        "colab": {
          "base_uri": "https://localhost:8080/",
          "height": 84
        },
        "outputId": "324e67e4-8f13-492a-c628-0d27626580da"
      },
      "source": [
        "# for loops with lists.\n",
        "\n",
        "supplies = ['pens', 'staplers', 'flame-throwers', 'binders']\n",
        "\n",
        "for i in range(len(supplies)):\n",
        "  print(\"Index \" + str(i) + \" in the supplies is: \" + supplies[i])"
      ],
      "execution_count": 36,
      "outputs": [
        {
          "output_type": "stream",
          "text": [
            "Index 0 in the supplies is: pens\n",
            "Index 1 in the supplies is: staplers\n",
            "Index 2 in the supplies is: flame-throwers\n",
            "Index 3 in the supplies is: binders\n"
          ],
          "name": "stdout"
        }
      ]
    },
    {
      "cell_type": "code",
      "metadata": {
        "id": "qNLW_lCXt6zb",
        "colab_type": "code",
        "colab": {
          "base_uri": "https://localhost:8080/",
          "height": 67
        },
        "outputId": "e392493e-82a7-4c46-8487-f266118cf222"
      },
      "source": [
        "# in and not in operators.\n",
        "\n",
        "myPets = ['Zophie', 'Pooka', 'Fat-tail']\n",
        "\n",
        "print('Enter a pet name:')\n",
        "name = input()\n",
        "\n",
        "if name not in myPets:\n",
        "    print('I do not have a pet named ' + name)\n",
        "else:\n",
        "    print(name + ' is my pet.')\n"
      ],
      "execution_count": 45,
      "outputs": [
        {
          "output_type": "stream",
          "text": [
            "Enter a pet name:\n",
            "b\n",
            "I do not have a pet named b\n"
          ],
          "name": "stdout"
        }
      ]
    },
    {
      "cell_type": "code",
      "metadata": {
        "id": "nCcm4Qb8yTOQ",
        "colab_type": "code",
        "colab": {
          "base_uri": "https://localhost:8080/",
          "height": 34
        },
        "outputId": "da1d1f34-98d7-41d3-a891-8b9af99e2073"
      },
      "source": [
        "# Lists methods\n",
        "\n",
        "animal = ['cat', 'dog', 'bat']\n",
        "animal.append('rat')\n",
        "animal\n"
      ],
      "execution_count": 51,
      "outputs": [
        {
          "output_type": "execute_result",
          "data": {
            "text/plain": [
              "['cat', 'dog', 'bat', 'rat']"
            ]
          },
          "metadata": {
            "tags": []
          },
          "execution_count": 51
        }
      ]
    },
    {
      "cell_type": "code",
      "metadata": {
        "id": "E6p05Xtw6i4N",
        "colab_type": "code",
        "colab": {
          "base_uri": "https://localhost:8080/",
          "height": 34
        },
        "outputId": "5368abbb-90de-4e80-e985-078005325ffd"
      },
      "source": [
        "animal.insert(1, 'Lion')\n",
        "animal"
      ],
      "execution_count": 57,
      "outputs": [
        {
          "output_type": "execute_result",
          "data": {
            "text/plain": [
              "['cat', 'Lion', 'dog', 'bat', 'rat']"
            ]
          },
          "metadata": {
            "tags": []
          },
          "execution_count": 57
        }
      ]
    },
    {
      "cell_type": "code",
      "metadata": {
        "id": "qE0nWgSx6n-b",
        "colab_type": "code",
        "colab": {
          "base_uri": "https://localhost:8080/",
          "height": 34
        },
        "outputId": "60342c91-5dc8-466b-9e16-0a9c8b995daa"
      },
      "source": [
        "animal.index('Lion')"
      ],
      "execution_count": 58,
      "outputs": [
        {
          "output_type": "execute_result",
          "data": {
            "text/plain": [
              "1"
            ]
          },
          "metadata": {
            "tags": []
          },
          "execution_count": 58
        }
      ]
    },
    {
      "cell_type": "code",
      "metadata": {
        "id": "CZaO7cro7jGS",
        "colab_type": "code",
        "colab": {
          "base_uri": "https://localhost:8080/",
          "height": 34
        },
        "outputId": "a7c77169-d256-4f8d-888d-572a9854ebe7"
      },
      "source": [
        "animal.remove('Lion')\n",
        "animal"
      ],
      "execution_count": 59,
      "outputs": [
        {
          "output_type": "execute_result",
          "data": {
            "text/plain": [
              "['cat', 'dog', 'bat', 'rat']"
            ]
          },
          "metadata": {
            "tags": []
          },
          "execution_count": 59
        }
      ]
    },
    {
      "cell_type": "code",
      "metadata": {
        "id": "luLfkI1gOOZr",
        "colab_type": "code",
        "colab": {
          "base_uri": "https://localhost:8080/",
          "height": 34
        },
        "outputId": "67a780b3-2148-423d-e4f2-ad07c16cfac7"
      },
      "source": [
        "num = [2,7,-8,9,3,6]\n",
        "num.sort()\n",
        "num"
      ],
      "execution_count": 61,
      "outputs": [
        {
          "output_type": "execute_result",
          "data": {
            "text/plain": [
              "[-8, 2, 3, 6, 7, 9]"
            ]
          },
          "metadata": {
            "tags": []
          },
          "execution_count": 61
        }
      ]
    },
    {
      "cell_type": "code",
      "metadata": {
        "id": "2ntens1lOtK7",
        "colab_type": "code",
        "colab": {
          "base_uri": "https://localhost:8080/",
          "height": 34
        },
        "outputId": "e2e784c5-f367-4a1f-9685-61936e738689"
      },
      "source": [
        "import random\n",
        "\n",
        "messages = ['It is certain',\n",
        "    'It is decidedly so',\n",
        "    'Yes definitely',\n",
        "    'Reply hazy try again',\n",
        "    'Ask again later',\n",
        "    'Concentrate and ask again',\n",
        "    'My reply is no',\n",
        "    'Outlook not so good',\n",
        "    'Very doubtful']\n",
        "\n",
        "print(messages[random.randint(0, len(messages) - 1)])"
      ],
      "execution_count": 64,
      "outputs": [
        {
          "output_type": "stream",
          "text": [
            "Yes definitely\n"
          ],
          "name": "stdout"
        }
      ]
    },
    {
      "cell_type": "code",
      "metadata": {
        "id": "OF0myLcCPSNf",
        "colab_type": "code",
        "colab": {
          "base_uri": "https://localhost:8080/",
          "height": 34
        },
        "outputId": "31d4e513-04b4-4097-871f-ac83d0eb704f"
      },
      "source": [
        "print('Four score and seven ' + \\\n",
        "      'years ago...')"
      ],
      "execution_count": 65,
      "outputs": [
        {
          "output_type": "stream",
          "text": [
            "Four score and seven years ago...\n"
          ],
          "name": "stdout"
        }
      ]
    },
    {
      "cell_type": "code",
      "metadata": {
        "id": "lXoW4yMXPloP",
        "colab_type": "code",
        "colab": {
          "base_uri": "https://localhost:8080/",
          "height": 134
        },
        "outputId": "123057c6-ebf1-4966-cdf1-537f4e21a9b8"
      },
      "source": [
        "# List-Like Types: Strings and Tuples\n",
        "\n",
        "name = 'Kuldeep'\n",
        "name[0]\n",
        "\n",
        "for i in name.upper():\n",
        "  print('***' + i + '***')"
      ],
      "execution_count": 71,
      "outputs": [
        {
          "output_type": "stream",
          "text": [
            "***K***\n",
            "***U***\n",
            "***L***\n",
            "***D***\n",
            "***E***\n",
            "***E***\n",
            "***P***\n"
          ],
          "name": "stdout"
        }
      ]
    },
    {
      "cell_type": "code",
      "metadata": {
        "id": "VD_T0EjtQIaK",
        "colab_type": "code",
        "colab": {}
      },
      "source": [
        ""
      ],
      "execution_count": 0,
      "outputs": []
    }
  ]
}
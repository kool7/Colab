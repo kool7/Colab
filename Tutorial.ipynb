{
  "nbformat": 4,
  "nbformat_minor": 0,
  "metadata": {
    "colab": {
      "name": "Tutorial.ipynb",
      "provenance": [],
      "include_colab_link": true
    },
    "kernelspec": {
      "name": "python3",
      "display_name": "Python 3"
    }
  },
  "cells": [
    {
      "cell_type": "markdown",
      "metadata": {
        "id": "view-in-github",
        "colab_type": "text"
      },
      "source": [
        "<a href=\"https://colab.research.google.com/github/kool7/Colab/blob/master/Tutorial.ipynb\" target=\"_parent\"><img src=\"https://colab.research.google.com/assets/colab-badge.svg\" alt=\"Open In Colab\"/></a>"
      ]
    },
    {
      "cell_type": "markdown",
      "metadata": {
        "id": "1fyV_jw_ln2c",
        "colab_type": "text"
      },
      "source": [
        "# Input\n",
        "We are going to see how we can pass input to python. "
      ]
    },
    {
      "cell_type": "code",
      "metadata": {
        "id": "FIdKzepJA0Kb",
        "colab_type": "code",
        "outputId": "78a2e518-5476-48c0-8ff2-8ce34cbc2daa",
        "colab": {
          "base_uri": "https://localhost:8080/",
          "height": 252
        }
      },
      "source": [
        "print('Hello World!')\n",
        "print(\"What is your name?\") \n",
        "myName = input()\n",
        "\n",
        "print(\"It is good to meet you, \" + myName)\n",
        "# print(\"The Length of your name is:\")\n",
        "# print(len(myName))\n",
        "\n",
        "print(\"What is your age?\")\n",
        "myAge = input()\n",
        "print(\"You will be \" + str(int(myAge) + 1) + \" in a year.\")\n",
        "\n",
        "print(\"How can I help you?\")\n",
        "input()\n",
        "\n",
        "print(\"Okay, Which slot you prefer:\\n\"\n",
        "      \"10:00 - 12:00 am\\n\"\n",
        "       \"4:00 - 6:00 pm\")\n",
        "\n",
        "add = input()\n",
        "print(\"Your appointment is at \" + add)"
      ],
      "execution_count": 0,
      "outputs": [
        {
          "output_type": "stream",
          "text": [
            "Hello World!\n",
            "What is your name?\n",
            "Kuldeep Singh HCoyhan\n",
            "It is good to meet you, Kuldeep Singh HCoyhan\n",
            "What is your age?\n",
            "22\n",
            "You will be 23 in a year.\n",
            "How can I help you?\n",
            "I need an appointment\n",
            "Okay, Which slot you prefer:\n",
            "10:00 - 12:00 am\n",
            "4:00 - 6:00 pm\n",
            "10\n",
            "Your appointment is at 10\n"
          ],
          "name": "stdout"
        }
      ]
    },
    {
      "cell_type": "markdown",
      "metadata": {
        "id": "iyEnlCEPskpj",
        "colab_type": "text"
      },
      "source": [
        "# Conditional statements"
      ]
    },
    {
      "cell_type": "code",
      "metadata": {
        "id": "2nw5xwQCqCG5",
        "colab_type": "code",
        "outputId": "b5e21a58-90c8-4c41-cb2c-3d1647c1c09c",
        "colab": {
          "base_uri": "https://localhost:8080/",
          "height": 101
        }
      },
      "source": [
        "#Enter name\n",
        "print(\"Enter a name.\")\n",
        "name = input()\n",
        "\n",
        "#Enter Password\n",
        "print(\"Welcome \" + name + \" Enter your password\")\n",
        "password  = input()\n",
        "if password != \"\":\n",
        "  print(\"Access granted\")\n",
        "else:\n",
        "  print(\"Wrong password\")"
      ],
      "execution_count": 3,
      "outputs": [
        {
          "output_type": "stream",
          "text": [
            "Enter a name.\n",
            "d\n",
            "Welcome d Enter your password\n",
            "d\n",
            "Access granted\n"
          ],
          "name": "stdout"
        }
      ]
    },
    {
      "cell_type": "code",
      "metadata": {
        "id": "Ac9Eob9nIeqy",
        "colab_type": "code",
        "colab": {}
      },
      "source": [
        ""
      ],
      "execution_count": 0,
      "outputs": []
    },
    {
      "cell_type": "markdown",
      "metadata": {
        "id": "sHn_JZVpt3WM",
        "colab_type": "text"
      },
      "source": [
        "# Loops"
      ]
    },
    {
      "cell_type": "code",
      "metadata": {
        "id": "ry7KFYdnt1gn",
        "colab_type": "code",
        "outputId": "89d0cf66-1612-4af2-a411-fbb08ef60efc",
        "colab": {
          "base_uri": "https://localhost:8080/",
          "height": 101
        }
      },
      "source": [
        "spam = 0\n",
        "while spam < 5:\n",
        "  print(\"Hi! Kuldeep\")\n",
        "  spam += 1"
      ],
      "execution_count": 0,
      "outputs": [
        {
          "output_type": "stream",
          "text": [
            "Hi! Kuldeep\n",
            "Hi! Kuldeep\n",
            "Hi! Kuldeep\n",
            "Hi! Kuldeep\n",
            "Hi! Kuldeep\n"
          ],
          "name": "stdout"
        }
      ]
    },
    {
      "cell_type": "code",
      "metadata": {
        "id": "Wcw_fG1vzD0r",
        "colab_type": "code",
        "outputId": "44d44bc7-a244-45b6-95e6-708c4b20e91f",
        "colab": {
          "base_uri": "https://localhost:8080/",
          "height": 67
        }
      },
      "source": [
        "name = ''\n",
        "while True:\n",
        "  print(\"Please type your name.\")\n",
        "  name = input()\n",
        "  if name == \"Kuldeep\":\n",
        "    break\n",
        "print(\"Welcome back boss\")"
      ],
      "execution_count": 0,
      "outputs": [
        {
          "output_type": "stream",
          "text": [
            "Please type your name.\n",
            "Kuldeep\n",
            "Welcome back boss\n"
          ],
          "name": "stdout"
        }
      ]
    },
    {
      "cell_type": "code",
      "metadata": {
        "id": "atv75KlMLXg7",
        "colab_type": "code",
        "outputId": "3e17a40b-3fbe-4198-8a48-b68b25442324",
        "colab": {
          "base_uri": "https://localhost:8080/",
          "height": 185
        }
      },
      "source": [
        "for i in range(5):\n",
        "  print(\"Please type your name.\")\n",
        "  input()"
      ],
      "execution_count": 0,
      "outputs": [
        {
          "output_type": "stream",
          "text": [
            "Please type your name.\n",
            "Kuldeep\n",
            "Please type your name.\n",
            "kuldeep\n",
            "Please type your name.\n",
            "gul\n",
            "Please type your name.\n",
            "indresh\n",
            "Please type your name.\n",
            "deep\n"
          ],
          "name": "stdout"
        }
      ]
    },
    {
      "cell_type": "markdown",
      "metadata": {
        "id": "WSsXSwQIRefr",
        "colab_type": "text"
      },
      "source": [
        "# Functions\n",
        "\n"
      ]
    },
    {
      "cell_type": "code",
      "metadata": {
        "id": "fSGWtGXGRkIC",
        "colab_type": "code",
        "colab": {}
      },
      "source": [
        "from random import *\n",
        "from sys import *\n",
        "from os import *\n",
        "from math import *\n",
        "import pyperclip\n"
      ],
      "execution_count": 0,
      "outputs": []
    },
    {
      "cell_type": "code",
      "metadata": {
        "id": "alMeXRwkS2UM",
        "colab_type": "code",
        "colab": {
          "base_uri": "https://localhost:8080/",
          "height": 34
        },
        "outputId": "ae325b02-150d-4d2f-f04c-59cb7fe6456c"
      },
      "source": [
        "# A simple function that returns a value \n",
        "\n",
        "def plusOne(number):\n",
        "  return number + 1\n",
        "\n",
        "plusOne(5)"
      ],
      "execution_count": 2,
      "outputs": [
        {
          "output_type": "execute_result",
          "data": {
            "text/plain": [
              "6"
            ]
          },
          "metadata": {
            "tags": []
          },
          "execution_count": 2
        }
      ]
    },
    {
      "cell_type": "code",
      "metadata": {
        "id": "Oh8cV3sn6jCI",
        "colab_type": "code",
        "colab": {}
      },
      "source": [
        ""
      ],
      "execution_count": 0,
      "outputs": []
    }
  ]
}
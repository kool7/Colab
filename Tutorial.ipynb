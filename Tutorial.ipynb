{
  "nbformat": 4,
  "nbformat_minor": 0,
  "metadata": {
    "colab": {
      "name": "Tutorial.ipynb",
      "provenance": [],
      "include_colab_link": true
    },
    "kernelspec": {
      "name": "python3",
      "display_name": "Python 3"
    }
  },
  "cells": [
    {
      "cell_type": "markdown",
      "metadata": {
        "id": "view-in-github",
        "colab_type": "text"
      },
      "source": [
        "<a href=\"https://colab.research.google.com/github/kool7/Colab/blob/master/Tutorial.ipynb\" target=\"_parent\"><img src=\"https://colab.research.google.com/assets/colab-badge.svg\" alt=\"Open In Colab\"/></a>"
      ]
    },
    {
      "cell_type": "markdown",
      "metadata": {
        "id": "1fyV_jw_ln2c",
        "colab_type": "text"
      },
      "source": [
        "# Input\n",
        "We are going to see how we can pass input to python. "
      ]
    },
    {
      "cell_type": "code",
      "metadata": {
        "id": "FIdKzepJA0Kb",
        "colab_type": "code",
        "outputId": "78a2e518-5476-48c0-8ff2-8ce34cbc2daa",
        "colab": {
          "base_uri": "https://localhost:8080/",
          "height": 252
        }
      },
      "source": [
        "print('Hello World!')\n",
        "print(\"What is your name?\") \n",
        "myName = input()\n",
        "\n",
        "print(\"It is good to meet you, \" + myName)\n",
        "# print(\"The Length of your name is:\")\n",
        "# print(len(myName))\n",
        "\n",
        "print(\"What is your age?\")\n",
        "myAge = input()\n",
        "print(\"You will be \" + str(int(myAge) + 1) + \" in a year.\")\n",
        "\n",
        "print(\"How can I help you?\")\n",
        "input()\n",
        "\n",
        "print(\"Okay, Which slot you prefer:\\n\"\n",
        "      \"10:00 - 12:00 am\\n\"\n",
        "       \"4:00 - 6:00 pm\")\n",
        "\n",
        "add = input()\n",
        "print(\"Your appointment is at \" + add)"
      ],
      "execution_count": 0,
      "outputs": [
        {
          "output_type": "stream",
          "text": [
            "Hello World!\n",
            "What is your name?\n",
            "Kuldeep Singh HCoyhan\n",
            "It is good to meet you, Kuldeep Singh HCoyhan\n",
            "What is your age?\n",
            "22\n",
            "You will be 23 in a year.\n",
            "How can I help you?\n",
            "I need an appointment\n",
            "Okay, Which slot you prefer:\n",
            "10:00 - 12:00 am\n",
            "4:00 - 6:00 pm\n",
            "10\n",
            "Your appointment is at 10\n"
          ],
          "name": "stdout"
        }
      ]
    },
    {
      "cell_type": "markdown",
      "metadata": {
        "id": "iyEnlCEPskpj",
        "colab_type": "text"
      },
      "source": [
        "# Conditional statements"
      ]
    },
    {
      "cell_type": "code",
      "metadata": {
        "id": "2nw5xwQCqCG5",
        "colab_type": "code",
        "outputId": "b5e21a58-90c8-4c41-cb2c-3d1647c1c09c",
        "colab": {
          "base_uri": "https://localhost:8080/",
          "height": 101
        }
      },
      "source": [
        "#Enter name\n",
        "print(\"Enter a name.\")\n",
        "name = input()\n",
        "\n",
        "#Enter Password\n",
        "print(\"Welcome \" + name + \" Enter your password\")\n",
        "password  = input()\n",
        "if password != \"\":\n",
        "  print(\"Access granted\")\n",
        "else:\n",
        "  print(\"Wrong password\")"
      ],
      "execution_count": 3,
      "outputs": [
        {
          "output_type": "stream",
          "text": [
            "Enter a name.\n",
            "d\n",
            "Welcome d Enter your password\n",
            "d\n",
            "Access granted\n"
          ],
          "name": "stdout"
        }
      ]
    },
    {
      "cell_type": "code",
      "metadata": {
        "id": "Ac9Eob9nIeqy",
        "colab_type": "code",
        "colab": {}
      },
      "source": [
        ""
      ],
      "execution_count": 0,
      "outputs": []
    },
    {
      "cell_type": "markdown",
      "metadata": {
        "id": "sHn_JZVpt3WM",
        "colab_type": "text"
      },
      "source": [
        "# Loops"
      ]
    },
    {
      "cell_type": "code",
      "metadata": {
        "id": "ry7KFYdnt1gn",
        "colab_type": "code",
        "outputId": "89d0cf66-1612-4af2-a411-fbb08ef60efc",
        "colab": {
          "base_uri": "https://localhost:8080/",
          "height": 101
        }
      },
      "source": [
        "spam = 0\n",
        "while spam < 5:\n",
        "  print(\"Hi! Kuldeep\")\n",
        "  spam += 1"
      ],
      "execution_count": 0,
      "outputs": [
        {
          "output_type": "stream",
          "text": [
            "Hi! Kuldeep\n",
            "Hi! Kuldeep\n",
            "Hi! Kuldeep\n",
            "Hi! Kuldeep\n",
            "Hi! Kuldeep\n"
          ],
          "name": "stdout"
        }
      ]
    },
    {
      "cell_type": "code",
      "metadata": {
        "id": "Wcw_fG1vzD0r",
        "colab_type": "code",
        "outputId": "44d44bc7-a244-45b6-95e6-708c4b20e91f",
        "colab": {
          "base_uri": "https://localhost:8080/",
          "height": 67
        }
      },
      "source": [
        "name = ''\n",
        "while True:\n",
        "  print(\"Please type your name.\")\n",
        "  name = input()\n",
        "  if name == \"Kuldeep\":\n",
        "    break\n",
        "print(\"Welcome back boss\")"
      ],
      "execution_count": 0,
      "outputs": [
        {
          "output_type": "stream",
          "text": [
            "Please type your name.\n",
            "Kuldeep\n",
            "Welcome back boss\n"
          ],
          "name": "stdout"
        }
      ]
    },
    {
      "cell_type": "code",
      "metadata": {
        "id": "atv75KlMLXg7",
        "colab_type": "code",
        "outputId": "3e17a40b-3fbe-4198-8a48-b68b25442324",
        "colab": {
          "base_uri": "https://localhost:8080/",
          "height": 185
        }
      },
      "source": [
        "for i in range(5):\n",
        "  print(\"Please type your name.\")\n",
        "  input()"
      ],
      "execution_count": 0,
      "outputs": [
        {
          "output_type": "stream",
          "text": [
            "Please type your name.\n",
            "Kuldeep\n",
            "Please type your name.\n",
            "kuldeep\n",
            "Please type your name.\n",
            "gul\n",
            "Please type your name.\n",
            "indresh\n",
            "Please type your name.\n",
            "deep\n"
          ],
          "name": "stdout"
        }
      ]
    },
    {
      "cell_type": "markdown",
      "metadata": {
        "id": "WSsXSwQIRefr",
        "colab_type": "text"
      },
      "source": [
        "# Functions\n",
        "\n"
      ]
    },
    {
      "cell_type": "code",
      "metadata": {
        "id": "alMeXRwkS2UM",
        "colab_type": "code",
        "colab": {
          "base_uri": "https://localhost:8080/",
          "height": 34
        },
        "outputId": "ae325b02-150d-4d2f-f04c-59cb7fe6456c"
      },
      "source": [
        "# A simple function that returns a value \n",
        "\n",
        "def plusOne(number):\n",
        "  return number + 1\n",
        "\n",
        "plusOne(5)"
      ],
      "execution_count": 2,
      "outputs": [
        {
          "output_type": "execute_result",
          "data": {
            "text/plain": [
              "6"
            ]
          },
          "metadata": {
            "tags": []
          },
          "execution_count": 2
        }
      ]
    },
    {
      "cell_type": "code",
      "metadata": {
        "id": "olK6p1d1BHFO",
        "colab_type": "code",
        "colab": {
          "base_uri": "https://localhost:8080/",
          "height": 195
        },
        "outputId": "69c174c6-304c-4f5c-98ce-098d1c7edcb5"
      },
      "source": [
        "# (1) Local variable can not be used in  the global scope.\n",
        "\n",
        "def spam():\n",
        "  egg = 99\n",
        "  \n",
        "spam()  \n",
        "print(egg)"
      ],
      "execution_count": 11,
      "outputs": [
        {
          "output_type": "error",
          "ename": "NameError",
          "evalue": "ignored",
          "traceback": [
            "\u001b[0;31m---------------------------------------------------------------------------\u001b[0m",
            "\u001b[0;31mNameError\u001b[0m                                 Traceback (most recent call last)",
            "\u001b[0;32m<ipython-input-11-afe0112b681f>\u001b[0m in \u001b[0;36m<module>\u001b[0;34m()\u001b[0m\n\u001b[1;32m      4\u001b[0m \u001b[0;34m\u001b[0m\u001b[0m\n\u001b[1;32m      5\u001b[0m \u001b[0mspam\u001b[0m\u001b[0;34m(\u001b[0m\u001b[0;34m)\u001b[0m\u001b[0;34m\u001b[0m\u001b[0;34m\u001b[0m\u001b[0m\n\u001b[0;32m----> 6\u001b[0;31m \u001b[0mprint\u001b[0m\u001b[0;34m(\u001b[0m\u001b[0megg\u001b[0m\u001b[0;34m)\u001b[0m\u001b[0;34m\u001b[0m\u001b[0;34m\u001b[0m\u001b[0m\n\u001b[0m",
            "\u001b[0;31mNameError\u001b[0m: name 'egg' is not defined"
          ]
        }
      ]
    },
    {
      "cell_type": "code",
      "metadata": {
        "id": "Oh8cV3sn6jCI",
        "colab_type": "code",
        "colab": {
          "base_uri": "https://localhost:8080/",
          "height": 50
        },
        "outputId": "020f9f0a-ccfc-4465-f74a-196313aff883"
      },
      "source": [
        "# (2) A variable in one function's local scope can not use \n",
        "# the variable in another function's local scope.\n",
        "\n",
        "def spam():\n",
        "  eggs = 99\n",
        "  bacon()\n",
        "  print(eggs)\n",
        "  \n",
        "def bacon():\n",
        "  ham = 101\n",
        "  eggs = 0\n",
        "  return ham, eggs\n",
        "  \n",
        "spam()\n",
        "bacon()"
      ],
      "execution_count": 6,
      "outputs": [
        {
          "output_type": "stream",
          "text": [
            "99\n"
          ],
          "name": "stdout"
        },
        {
          "output_type": "execute_result",
          "data": {
            "text/plain": [
              "(101, 0)"
            ]
          },
          "metadata": {
            "tags": []
          },
          "execution_count": 6
        }
      ]
    },
    {
      "cell_type": "code",
      "metadata": {
        "id": "Cr1Jdscs_4GC",
        "colab_type": "code",
        "colab": {
          "base_uri": "https://localhost:8080/",
          "height": 34
        },
        "outputId": "390eb4a8-978e-469e-a683-b75268bbdec6"
      },
      "source": [
        "# (3) Global variable can be read from the local scope.\n",
        "\n",
        "def spam():\n",
        "  print(eggs)\n",
        "  \n",
        "eggs = 42\n",
        "spam()"
      ],
      "execution_count": 9,
      "outputs": [
        {
          "output_type": "stream",
          "text": [
            "42\n"
          ],
          "name": "stdout"
        }
      ]
    },
    {
      "cell_type": "markdown",
      "metadata": {
        "id": "o2nWRb4IBT1F",
        "colab_type": "text"
      },
      "source": [
        "1. If there is an assignment statement for variable in particular funnction that it is local variable.\n",
        "\n",
        "2. If there isn't any assignment statement then python will check if there is any global variable by that name and assign it that value.\n",
        "\n",
        "Assignment statement = Local variable\n",
        "\n",
        "\n",
        "No assignment statement = Global variable"
      ]
    },
    {
      "cell_type": "code",
      "metadata": {
        "id": "PkwEm88fDInk",
        "colab_type": "code",
        "colab": {
          "base_uri": "https://localhost:8080/",
          "height": 34
        },
        "outputId": "f6885326-c61b-4c16-c74b-0513b9e0e6b5"
      },
      "source": [
        "def car():\n",
        "  global car\n",
        "  car = \"Hello\"\n",
        "  print(car)\n",
        "  \n",
        "car = 77\n",
        "spam()\n"
      ],
      "execution_count": 18,
      "outputs": [
        {
          "output_type": "stream",
          "text": [
            "Hello\n"
          ],
          "name": "stdout"
        }
      ]
    },
    {
      "cell_type": "markdown",
      "metadata": {
        "id": "9FQU4UqmE4oZ",
        "colab_type": "text"
      },
      "source": [
        "# Try And Except\n",
        "\n",
        "How to handle error in python? "
      ]
    },
    {
      "cell_type": "code",
      "metadata": {
        "id": "Z33s0B5jFTjB",
        "colab_type": "code",
        "colab": {
          "base_uri": "https://localhost:8080/",
          "height": 67
        },
        "outputId": "88f77512-70d9-4a35-a80c-3b5ab12f17ca"
      },
      "source": [
        "def div42by(divideBy):\n",
        "  try:\n",
        "    return 42/ divideBy\n",
        "  except ZeroDivisionError: \n",
        "    print(\"WARNING: You tried to divide by zero.\" )\n",
        "    \n",
        "    \n",
        "print(div42by(2))\n",
        "print(div42by(0))"
      ],
      "execution_count": 24,
      "outputs": [
        {
          "output_type": "stream",
          "text": [
            "21.0\n",
            "WARNING: You tried to divide by zero.\n",
            "None\n"
          ],
          "name": "stdout"
        }
      ]
    },
    {
      "cell_type": "code",
      "metadata": {
        "id": "brUlXN1QGzVa",
        "colab_type": "code",
        "colab": {
          "base_uri": "https://localhost:8080/",
          "height": 269
        },
        "outputId": "8e75b244-f5f1-4325-b8c2-6e0e4edea164"
      },
      "source": [
        "\n",
        "print('How many cats you have?')\n",
        "numCats = input()\n",
        "\n",
        "try:\n",
        "  if int(numCats) >= 4:\n",
        "    print(\"That's a lot of cats.\")\n",
        "  else:\n",
        "    print(\"That is not that many cats.\")\n",
        "except ValueError:\n",
        "  print(\"You did not a enter a number.\")"
      ],
      "execution_count": 27,
      "outputs": [
        {
          "output_type": "stream",
          "text": [
            "How many cats you have?\n",
            "3\n",
            "That is not that many cats.\n",
            "How many cats you have?\n",
            "4\n",
            "That's a lot of cats.\n",
            "How many cats you have?\n",
            "6\n",
            "That's a lot of cats.\n",
            "How many cats you have?\n",
            "7\n",
            "That's a lot of cats.\n",
            "How many cats you have?\n",
            "8\n",
            "That's a lot of cats.\n"
          ],
          "name": "stdout"
        }
      ]
    },
    {
      "cell_type": "markdown",
      "metadata": {
        "id": "asEztc4XIVW0",
        "colab_type": "text"
      },
      "source": [
        "# Programming\n",
        "\n",
        "A simple guess the number game."
      ]
    },
    {
      "cell_type": "code",
      "metadata": {
        "id": "7Hpr9uupIZNJ",
        "colab_type": "code",
        "colab": {}
      },
      "source": [
        ""
      ],
      "execution_count": 0,
      "outputs": []
    }
  ]
}
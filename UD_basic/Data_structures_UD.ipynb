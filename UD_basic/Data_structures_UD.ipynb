{
  "nbformat": 4,
  "nbformat_minor": 0,
  "metadata": {
    "colab": {
      "name": "Data_structures_UD.ipynb",
      "provenance": []
    },
    "kernelspec": {
      "name": "python3",
      "display_name": "Python 3"
    }
  },
  "cells": [
    {
      "cell_type": "markdown",
      "metadata": {
        "id": "QanlEpyKyp8L",
        "colab_type": "text"
      },
      "source": [
        "# Tuples\n",
        "\n",
        "A tuple is another useful container. It's a data type for immutable ordered sequences of elements. They are often used to store related pieces of information. Consider this example involving latitude and longitude:"
      ]
    },
    {
      "cell_type": "code",
      "metadata": {
        "id": "xFeLg-ATqjXP",
        "colab_type": "code",
        "colab": {
          "base_uri": "https://localhost:8080/",
          "height": 50
        },
        "outputId": "7e1d0eac-a818-4431-eb75-953b17690862"
      },
      "source": [
        "location = (13.4125, 103.866667)\n",
        "print('latitude: ', location[0])\n",
        "print('longitude: ', location[1])"
      ],
      "execution_count": 3,
      "outputs": [
        {
          "output_type": "stream",
          "text": [
            "latitude:  13.4125\n",
            "longitude:  103.866667\n"
          ],
          "name": "stdout"
        }
      ]
    },
    {
      "cell_type": "markdown",
      "metadata": {
        "id": "9DXH9Fjw09RZ",
        "colab_type": "text"
      },
      "source": [
        "Tuples are similar to lists in that they store an ordered collection of objects which can be accessed by their indices. Unlike lists, however, tuples are immutable - you can't add and remove items from tuples, or sort them in place.\n",
        "\n",
        "Tuples can also be used to assign multiple variables in a compact way."
      ]
    },
    {
      "cell_type": "code",
      "metadata": {
        "id": "umpOl173z1nV",
        "colab_type": "code",
        "colab": {
          "base_uri": "https://localhost:8080/",
          "height": 34
        },
        "outputId": "caffbb21-3fb6-468d-d9ee-f22a10a88f4f"
      },
      "source": [
        "dimension = 30, 40, 100\n",
        "length, width, height = dimension\n",
        "print(\"The dimensions are {} x {} x {}.\".format(length,width,height))"
      ],
      "execution_count": 4,
      "outputs": [
        {
          "output_type": "stream",
          "text": [
            "The dimensions are 30 x 40 x 100.\n"
          ],
          "name": "stdout"
        }
      ]
    },
    {
      "cell_type": "markdown",
      "metadata": {
        "id": "I-5j-chR1UkV",
        "colab_type": "text"
      },
      "source": [
        "Three variables are assigned from the content of the tuple dimensions. This is called tuple unpacking. You can use tuple unpacking to assign the information from a tuple into multiple variables without having to access them one by one and make multiple assignment statements."
      ]
    },
    {
      "cell_type": "code",
      "metadata": {
        "id": "bVrjPrHM0c4x",
        "colab_type": "code",
        "colab": {
          "base_uri": "https://localhost:8080/",
          "height": 50
        },
        "outputId": "2b9c2e80-cd49-45db-94ca-6fa4705c8f00"
      },
      "source": [
        "tuple_a = 1, 2\n",
        "tuple_b = (1, 2)\n",
        "\n",
        "print(tuple_a == tuple_b)\n",
        "print(tuple_a[1])"
      ],
      "execution_count": 6,
      "outputs": [
        {
          "output_type": "stream",
          "text": [
            "True\n",
            "2\n"
          ],
          "name": "stdout"
        }
      ]
    },
    {
      "cell_type": "markdown",
      "metadata": {
        "id": "j3trzG4D28Xv",
        "colab_type": "text"
      },
      "source": [
        "# Sets\n",
        "\n",
        "A set is a data type for mutable unordered collections of unique elements. One application of a set is to quickly remove duplicates from a list."
      ]
    },
    {
      "cell_type": "code",
      "metadata": {
        "id": "tDRfOfWH17cB",
        "colab_type": "code",
        "colab": {
          "base_uri": "https://localhost:8080/",
          "height": 34
        },
        "outputId": "89d844b0-78cf-4863-f1ae-1a15513b1dd2"
      },
      "source": [
        "numbers = [1, 2, 3, 3, 7, 6, 5, 6, 8, 9]\n",
        "set(numbers)"
      ],
      "execution_count": 7,
      "outputs": [
        {
          "output_type": "execute_result",
          "data": {
            "text/plain": [
              "{1, 2, 3, 5, 6, 7, 8, 9}"
            ]
          },
          "metadata": {
            "tags": []
          },
          "execution_count": 7
        }
      ]
    },
    {
      "cell_type": "code",
      "metadata": {
        "id": "C_mrsSC53lAC",
        "colab_type": "code",
        "colab": {
          "base_uri": "https://localhost:8080/",
          "height": 34
        },
        "outputId": "b2c2352e-3350-4a7d-ee90-2cccaed37615"
      },
      "source": [
        "fruit = {\"apple\", \"banana\", \"carrot\", \"orange\"}\n",
        "fruit.add(\"grapes\")\n",
        "fruit"
      ],
      "execution_count": 10,
      "outputs": [
        {
          "output_type": "execute_result",
          "data": {
            "text/plain": [
              "{'apple', 'banana', 'carrot', 'grapes', 'orange'}"
            ]
          },
          "metadata": {
            "tags": []
          },
          "execution_count": 10
        }
      ]
    },
    {
      "cell_type": "code",
      "metadata": {
        "id": "DtaKyKAR3_F0",
        "colab_type": "code",
        "colab": {
          "base_uri": "https://localhost:8080/",
          "height": 34
        },
        "outputId": "5da7e262-7863-4f16-ae5a-1491a2a532ed"
      },
      "source": [
        "fruit.pop()\n",
        "fruit"
      ],
      "execution_count": 13,
      "outputs": [
        {
          "output_type": "execute_result",
          "data": {
            "text/plain": [
              "{'banana', 'carrot', 'orange'}"
            ]
          },
          "metadata": {
            "tags": []
          },
          "execution_count": 13
        }
      ]
    },
    {
      "cell_type": "code",
      "metadata": {
        "id": "jVXMNqiw4PaG",
        "colab_type": "code",
        "colab": {}
      },
      "source": [
        ""
      ],
      "execution_count": 0,
      "outputs": []
    }
  ]
}
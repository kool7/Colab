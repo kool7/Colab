{
  "nbformat": 4,
  "nbformat_minor": 0,
  "metadata": {
    "colab": {
      "name": "Data_structures_UD.ipynb",
      "provenance": []
    },
    "kernelspec": {
      "name": "python3",
      "display_name": "Python 3"
    }
  },
  "cells": [
    {
      "cell_type": "markdown",
      "metadata": {
        "id": "QanlEpyKyp8L",
        "colab_type": "text"
      },
      "source": [
        "# Tuples\n",
        "\n",
        "A tuple is another useful container. It's a data type for immutable ordered sequences of elements. They are often used to store related pieces of information. Consider this example involving latitude and longitude:"
      ]
    },
    {
      "cell_type": "code",
      "metadata": {
        "id": "xFeLg-ATqjXP",
        "colab_type": "code",
        "outputId": "7e1d0eac-a818-4431-eb75-953b17690862",
        "colab": {
          "base_uri": "https://localhost:8080/",
          "height": 50
        }
      },
      "source": [
        "location = (13.4125, 103.866667)\n",
        "print('latitude: ', location[0])\n",
        "print('longitude: ', location[1])"
      ],
      "execution_count": 0,
      "outputs": [
        {
          "output_type": "stream",
          "text": [
            "latitude:  13.4125\n",
            "longitude:  103.866667\n"
          ],
          "name": "stdout"
        }
      ]
    },
    {
      "cell_type": "markdown",
      "metadata": {
        "id": "9DXH9Fjw09RZ",
        "colab_type": "text"
      },
      "source": [
        "Tuples are similar to lists in that they store an ordered collection of objects which can be accessed by their indices. Unlike lists, however, tuples are immutable - you can't add and remove items from tuples, or sort them in place.\n",
        "\n",
        "Tuples can also be used to assign multiple variables in a compact way."
      ]
    },
    {
      "cell_type": "code",
      "metadata": {
        "id": "umpOl173z1nV",
        "colab_type": "code",
        "outputId": "caffbb21-3fb6-468d-d9ee-f22a10a88f4f",
        "colab": {
          "base_uri": "https://localhost:8080/",
          "height": 34
        }
      },
      "source": [
        "dimension = 30, 40, 100\n",
        "length, width, height = dimension\n",
        "print(\"The dimensions are {} x {} x {}.\".format(length,width,height))"
      ],
      "execution_count": 0,
      "outputs": [
        {
          "output_type": "stream",
          "text": [
            "The dimensions are 30 x 40 x 100.\n"
          ],
          "name": "stdout"
        }
      ]
    },
    {
      "cell_type": "markdown",
      "metadata": {
        "id": "I-5j-chR1UkV",
        "colab_type": "text"
      },
      "source": [
        "Three variables are assigned from the content of the tuple dimensions. This is called tuple unpacking. You can use tuple unpacking to assign the information from a tuple into multiple variables without having to access them one by one and make multiple assignment statements."
      ]
    },
    {
      "cell_type": "code",
      "metadata": {
        "id": "bVrjPrHM0c4x",
        "colab_type": "code",
        "outputId": "2b9c2e80-cd49-45db-94ca-6fa4705c8f00",
        "colab": {
          "base_uri": "https://localhost:8080/",
          "height": 50
        }
      },
      "source": [
        "tuple_a = 1, 2\n",
        "tuple_b = (1, 2)\n",
        "\n",
        "print(tuple_a == tuple_b)\n",
        "print(tuple_a[1])"
      ],
      "execution_count": 0,
      "outputs": [
        {
          "output_type": "stream",
          "text": [
            "True\n",
            "2\n"
          ],
          "name": "stdout"
        }
      ]
    },
    {
      "cell_type": "markdown",
      "metadata": {
        "id": "j3trzG4D28Xv",
        "colab_type": "text"
      },
      "source": [
        "# Sets\n",
        "\n",
        "A set is a data type for mutable unordered collections of unique elements. One application of a set is to quickly remove duplicates from a list."
      ]
    },
    {
      "cell_type": "code",
      "metadata": {
        "id": "tDRfOfWH17cB",
        "colab_type": "code",
        "outputId": "89d844b0-78cf-4863-f1ae-1a15513b1dd2",
        "colab": {
          "base_uri": "https://localhost:8080/",
          "height": 34
        }
      },
      "source": [
        "numbers = [1, 2, 3, 3, 7, 6, 5, 6, 8, 9]\n",
        "set(numbers)"
      ],
      "execution_count": 0,
      "outputs": [
        {
          "output_type": "execute_result",
          "data": {
            "text/plain": [
              "{1, 2, 3, 5, 6, 7, 8, 9}"
            ]
          },
          "metadata": {
            "tags": []
          },
          "execution_count": 7
        }
      ]
    },
    {
      "cell_type": "code",
      "metadata": {
        "id": "C_mrsSC53lAC",
        "colab_type": "code",
        "outputId": "b2c2352e-3350-4a7d-ee90-2cccaed37615",
        "colab": {
          "base_uri": "https://localhost:8080/",
          "height": 34
        }
      },
      "source": [
        "fruit = {\"apple\", \"banana\", \"carrot\", \"orange\"}\n",
        "fruit.add(\"grapes\")\n",
        "fruit"
      ],
      "execution_count": 0,
      "outputs": [
        {
          "output_type": "execute_result",
          "data": {
            "text/plain": [
              "{'apple', 'banana', 'carrot', 'grapes', 'orange'}"
            ]
          },
          "metadata": {
            "tags": []
          },
          "execution_count": 10
        }
      ]
    },
    {
      "cell_type": "code",
      "metadata": {
        "id": "DtaKyKAR3_F0",
        "colab_type": "code",
        "outputId": "5da7e262-7863-4f16-ae5a-1491a2a532ed",
        "colab": {
          "base_uri": "https://localhost:8080/",
          "height": 34
        }
      },
      "source": [
        "fruit.pop()\n",
        "fruit"
      ],
      "execution_count": 0,
      "outputs": [
        {
          "output_type": "execute_result",
          "data": {
            "text/plain": [
              "{'banana', 'carrot', 'orange'}"
            ]
          },
          "metadata": {
            "tags": []
          },
          "execution_count": 13
        }
      ]
    },
    {
      "cell_type": "markdown",
      "metadata": {
        "id": "DRJLgjryK9U6",
        "colab_type": "text"
      },
      "source": [
        "# Dictionaries\n",
        "\n",
        "A dictionary is a mutable data type that stores mappings of unique keys to values. "
      ]
    },
    {
      "cell_type": "code",
      "metadata": {
        "id": "jVXMNqiw4PaG",
        "colab_type": "code",
        "outputId": "3a00d0a2-fc30-4df7-891b-e8c9f152c11c",
        "colab": {
          "base_uri": "https://localhost:8080/",
          "height": 34
        }
      },
      "source": [
        "elements = {'hydrogen': 1,\n",
        "            'helium': 2,\n",
        "            'carbon': 6}\n",
        "elements['lithium'] = 3\n",
        "print(elements)"
      ],
      "execution_count": 0,
      "outputs": [
        {
          "output_type": "stream",
          "text": [
            "{'hydrogen': 1, 'helium': 2, 'carbon': 6, 'lithium': 3}\n"
          ],
          "name": "stdout"
        }
      ]
    },
    {
      "cell_type": "markdown",
      "metadata": {
        "id": "o6-vLS4iRI42",
        "colab_type": "text"
      },
      "source": [
        "# Compound Data Structures\n",
        "\n",
        "We can include containers in other containers to create compound data structures."
      ]
    },
    {
      "cell_type": "code",
      "metadata": {
        "id": "apAJVEAQLiRE",
        "colab_type": "code",
        "outputId": "a250f57d-afb0-483d-83d7-4a33933f3d97",
        "colab": {
          "base_uri": "https://localhost:8080/",
          "height": 34
        }
      },
      "source": [
        "elements = {\"hydrogen\" : {\"number\": 1,\n",
        "                          \"weight\": 1.00794,\n",
        "                          \"symbol\": \"H\"},\n",
        "           \"helium\" : {\"number\": 2,\n",
        "                       \"weight\": 4.002602,\n",
        "                       \"symbol\": \"He\"}}\n",
        "\n",
        "elements[\"hydrogen\"][\"weight\"]"
      ],
      "execution_count": 0,
      "outputs": [
        {
          "output_type": "execute_result",
          "data": {
            "text/plain": [
              "1.00794"
            ]
          },
          "metadata": {
            "tags": []
          },
          "execution_count": 23
        }
      ]
    },
    {
      "cell_type": "code",
      "metadata": {
        "id": "i_2Gb6zVRrzu",
        "colab_type": "code",
        "outputId": "b9025986-3dff-4cb6-e15d-553c009cbfc6",
        "colab": {
          "base_uri": "https://localhost:8080/",
          "height": 54
        }
      },
      "source": [
        "oxygen = {'number': 8,\n",
        "          'weight': 15.999,\n",
        "          'symbol': \"O\"}\n",
        "\n",
        "elements[\"oxygen\"] = oxygen\n",
        "print(\"elements = \", elements)"
      ],
      "execution_count": 0,
      "outputs": [
        {
          "output_type": "stream",
          "text": [
            "elements =  {'hydrogen': {'number': 1, 'weight': 1.00794, 'symbol': 'H'}, 'helium': {'number': 2, 'weight': 4.002602, 'symbol': 'He'}, 'oxygen': {'number': 8, 'weight': 15.999, 'symbol': 'O'}}\n"
          ],
          "name": "stdout"
        }
      ]
    },
    {
      "cell_type": "code",
      "metadata": {
        "id": "uJHsD27YSiRL",
        "colab_type": "code",
        "colab": {}
      },
      "source": [
        ""
      ],
      "execution_count": 0,
      "outputs": []
    },
    {
      "cell_type": "code",
      "metadata": {
        "id": "PwniokAIW62p",
        "colab_type": "code",
        "colab": {}
      },
      "source": [
        "verse = \"if you can keep your head when all about you are losing theirs and blaming it on you   if you can trust yourself when all men doubt you     but make allowance for their doubting too   if you can wait and not be tired by waiting      or being lied about  don’t deal in lies   or being hated  don’t give way to hating      and yet don’t look too good  nor talk too wise\""
      ],
      "execution_count": 0,
      "outputs": []
    },
    {
      "cell_type": "code",
      "metadata": {
        "id": "4nJLpithW7zK",
        "colab_type": "code",
        "outputId": "0ef45c24-e523-4e48-af45-d6e34f599291",
        "colab": {
          "base_uri": "https://localhost:8080/",
          "height": 34
        }
      },
      "source": [
        "len(set(verse.split()))"
      ],
      "execution_count": 0,
      "outputs": [
        {
          "output_type": "execute_result",
          "data": {
            "text/plain": [
              "51"
            ]
          },
          "metadata": {
            "tags": []
          },
          "execution_count": 37
        }
      ]
    },
    {
      "cell_type": "code",
      "metadata": {
        "id": "yQ8UhbiQW96Z",
        "colab_type": "code",
        "outputId": "156c5c2e-e058-4a68-fc56-84cfd0af1be6",
        "colab": {
          "base_uri": "https://localhost:8080/",
          "height": 403
        }
      },
      "source": [
        "how_many_snakes = 2\n",
        "snake_string = \"\"\"\n",
        "Welcome to Python3!\n",
        "\n",
        "             ____\n",
        "            / . .\\\\\n",
        "            \\  ---<\n",
        "             \\  /\n",
        "   __________/ /\n",
        "-=:___________/\n",
        "\n",
        "<3, Kuldeep\n",
        "\"\"\"\n",
        "\n",
        "\n",
        "print(snake_string * how_many_snakes)"
      ],
      "execution_count": 0,
      "outputs": [
        {
          "output_type": "stream",
          "text": [
            "\n",
            "Welcome to Python3!\n",
            "\n",
            "             ____\n",
            "            / . .\\\n",
            "            \\  ---<\n",
            "             \\  /\n",
            "   __________/ /\n",
            "-=:___________/\n",
            "\n",
            "<3, Kuldeep\n",
            "\n",
            "Welcome to Python3!\n",
            "\n",
            "             ____\n",
            "            / . .\\\n",
            "            \\  ---<\n",
            "             \\  /\n",
            "   __________/ /\n",
            "-=:___________/\n",
            "\n",
            "<3, Kuldeep\n",
            "\n"
          ],
          "name": "stdout"
        }
      ]
    },
    {
      "cell_type": "markdown",
      "metadata": {
        "id": "UIg-6U7TgEjh",
        "colab_type": "text"
      },
      "source": [
        "# Scripting"
      ]
    },
    {
      "cell_type": "code",
      "metadata": {
        "id": "AIp8lvBwftWJ",
        "colab_type": "code",
        "outputId": "573aedae-1190-4723-8491-284f8fd078d4",
        "colab": {
          "base_uri": "https://localhost:8080/",
          "height": 50
        }
      },
      "source": [
        "name = input('Enter your name:')\n",
        "print('Hello there, {}'.fo rmat(name))"
      ],
      "execution_count": 0,
      "outputs": [
        {
          "output_type": "stream",
          "text": [
            "Enter your name:Kuldeep\n",
            "Hello there, Kuldeep\n"
          ],
          "name": "stdout"
        }
      ]
    },
    {
      "cell_type": "markdown",
      "metadata": {
        "id": "gKE9kSD6JpYi",
        "colab_type": "text"
      },
      "source": [
        "**generate messages.**"
      ]
    },
    {
      "cell_type": "code",
      "metadata": {
        "id": "WtKrUxdnu88u",
        "colab_type": "code",
        "colab": {
          "base_uri": "https://localhost:8080/",
          "height": 255
        },
        "outputId": "b15c301c-4434-400a-de2c-cc2111b2ca12"
      },
      "source": [
        "\n",
        "names = input('Enter names separated by commas: ').split(',')\n",
        "assignments = input('Enter assignments counts separated by commas: ').split(',')\n",
        "grades = input('Enter grades separated by commas: ').split(',')\n",
        "\n",
        "message = \"Hi {},\\n\\nThis is a reminder that you have {} assignments left to \\\n",
        "submit before you can graduate. You're current grade is {} and can increase \\\n",
        "to {} if you submit all assignments before the due date.\\n\\n\"\n",
        "\n",
        "for name, assignment, grade in zip(names, assignments, grades):\n",
        "  print(message.format(name, assignment, grade, int(grade) + int(assignment)*2))"
      ],
      "execution_count": 6,
      "outputs": [
        {
          "output_type": "stream",
          "text": [
            "Enter names separated by commas: k,t\n",
            "Enter assignments counts separated by commas: 4,5\n",
            "Enter grades separated by commas: 33,44\n",
            "Hi k,\n",
            "\n",
            "This is a reminder that you have 4 assignments left to submit before you can graduate. You're current grade is 33 and can increase to 41 if you submit all assignments before the due date.\n",
            "\n",
            "\n",
            "Hi t,\n",
            "\n",
            "This is a reminder that you have 5 assignments left to submit before you can graduate. You're current grade is 44 and can increase to 54 if you submit all assignments before the due date.\n",
            "\n",
            "\n"
          ],
          "name": "stdout"
        }
      ]
    }
  ]
}
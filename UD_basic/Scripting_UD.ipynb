{
  "nbformat": 4,
  "nbformat_minor": 0,
  "metadata": {
    "colab": {
      "name": "Scripting_UD.ipynb",
      "provenance": []
    },
    "kernelspec": {
      "name": "python3",
      "display_name": "Python 3"
    }
  },
  "cells": [
    {
      "cell_type": "markdown",
      "metadata": {
        "id": "WIVOEIGvEaF_",
        "colab_type": "text"
      },
      "source": [
        "# Scripting"
      ]
    },
    {
      "cell_type": "code",
      "metadata": {
        "id": "3KCy_jSCEYQG",
        "colab_type": "code",
        "colab": {
          "base_uri": "https://localhost:8080/",
          "height": 50
        },
        "outputId": "ace58d28-629f-455e-8c3e-3831125cc3b3"
      },
      "source": [
        "name = input('Enter your name:')\n",
        "print('Hello there, {}'.format(name))"
      ],
      "execution_count": 2,
      "outputs": [
        {
          "output_type": "stream",
          "text": [
            "Enter your name:kuldeep\n",
            "Hello there, kuldeep\n"
          ],
          "name": "stdout"
        }
      ]
    },
    {
      "cell_type": "markdown",
      "metadata": {
        "id": "9JG2MueXEhS9",
        "colab_type": "text"
      },
      "source": [
        "**generate messages**"
      ]
    },
    {
      "cell_type": "code",
      "metadata": {
        "id": "YRrSwrdOEfAC",
        "colab_type": "code",
        "colab": {}
      },
      "source": [
        "names = input('Enter names separated by commas: ').split(',')\n",
        "assignments = input('Enter assignments counts separated by commas: ').split(',')\n",
        "grades = input('Enter grades separated by commas: ').split(',')\n",
        "\n",
        "message = \"Hi {},\\n\\nThis is a reminder that you have {} assignments left to \\\n",
        "submit before you can graduate. You're current grade is {} and can increase \\\n",
        "to {} if you submit all assignments before the due date.\\n\\n\"\n",
        "\n",
        "for name, assignment, grade in zip(names, assignments, grades):\n",
        "  print(message.format(name, assignment, grade, int(grade) + int(assignment)*2))"
      ],
      "execution_count": 0,
      "outputs": []
    }
  ]
}